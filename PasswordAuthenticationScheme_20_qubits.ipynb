{
  "nbformat": 4,
  "nbformat_minor": 0,
  "metadata": {
    "colab": {
      "name": "PasswordAuthenticationScheme_20_qubits",
      "provenance": [],
      "collapsed_sections": [],
      "toc_visible": true
    },
    "kernelspec": {
      "display_name": "Python 3",
      "name": "python3"
    },
    "language_info": {
      "name": "python"
    }
  },
  "cells": [
    {
      "cell_type": "markdown",
      "metadata": {
        "id": "o80Lg88EvqBj"
      },
      "source": [
        "# General Tech Versions/Info\n",
        "- **Python:** 3.7.10\n",
        "- **Qiskit**: {'qiskit': '0.24.0',\n",
        " 'qiskit-aer': '0.7.6',\n",
        " 'qiskit-aqua': '0.8.2',\n",
        " 'qiskit-ibmq-provider': '0.12.1',\n",
        " 'qiskit-ignis': '0.5.2',\n",
        " 'qiskit-terra': '0.16.4'}\n",
        "- Run on Google Colab\n",
        "- Requires 20 qubits + 6 bits"
      ]
    },
    {
      "cell_type": "code",
      "metadata": {
        "id": "nYjHE2gxvbWg"
      },
      "source": [
        "from qiskit import (\n",
        "    IBMQ,\n",
        "    QuantumCircuit,\n",
        "    execute,\n",
        "    Aer,\n",
        "    QuantumRegister, \n",
        "    ClassicalRegister\n",
        ")\n",
        "\n",
        "from qiskit.providers.aer import AerSimulator\n",
        "from qiskit.ignis.mitigation.measurement import complete_meas_cal, CompleteMeasFitter\n",
        "from qiskit.visualization import plot_histogram\n",
        "\n",
        "import numpy as np\n",
        "import itertools\n",
        "import math\n",
        "import random\n",
        "import csv\n",
        "import time\n",
        "import pandas as pd\n",
        "from qiskit.test.mock import FakeSydney\n",
        "from qiskit import transpile"
      ],
      "execution_count": 1,
      "outputs": []
    },
    {
      "cell_type": "code",
      "metadata": {
        "id": "CEqoMez4CcvX"
      },
      "source": [
        "syd_unpermuted_layout = [21,18,23,24,17,15,22,11,8,14,13,9,5,16]\n",
        "syd_syndrome_layout = [10,25,26,3,12,19]"
      ],
      "execution_count": 2,
      "outputs": []
    },
    {
      "cell_type": "markdown",
      "metadata": {
        "id": "Cd2shkkbCNTf"
      },
      "source": [
        "#User Defined Values"
      ]
    },
    {
      "cell_type": "code",
      "metadata": {
        "id": "GoKY_e3OA9CV"
      },
      "source": [
        "NUM_SHOTS = 1\n",
        "NUM_DIFF_PROGRAMS = 1\n",
        "NUM_ITERATIONS = 1\n",
        "NUM_RANDOM_ITERATIONS = 1"
      ],
      "execution_count": 3,
      "outputs": []
    },
    {
      "cell_type": "code",
      "metadata": {
        "colab": {
          "base_uri": "https://localhost:8080/"
        },
        "id": "PUkVwkfjCMtQ",
        "outputId": "71924ac0-508e-4fe2-e6ae-660959d5182c"
      },
      "source": [
        "# comment out these next two lines if not saving to Google Drive\n",
        "from google.colab import drive\n",
        "drive.mount('/content/drive')\n",
        "\n",
        "# PLEASE CHANGE THESE VALUES ACCORDINGLY: \n",
        "filename_0 = \"/content/drive/My Drive/Results/general_info_20Q.txt\"\n",
        "filename_error = \"/content/drive/My Drive/Results/error_results_20Q.csv\"\n",
        "filename_decoded = \"/content/drive/My Drive/Results/decoded_results_20Q.csv\"\n",
        "\n",
        "# SET APPROPRIATE BACKEND\n",
        "fake_syd = FakeSydney()\n",
        "BACKEND = AerSimulator.from_backend(fake_syd)\n",
        "\n",
        "unpermuted_layout = syd_unpermuted_layout\n",
        "syndrome_layout = syd_syndrome_layout"
      ],
      "execution_count": 4,
      "outputs": [
        {
          "output_type": "stream",
          "text": [
            "Drive already mounted at /content/drive; to attempt to forcibly remount, call drive.mount(\"/content/drive\", force_remount=True).\n"
          ],
          "name": "stdout"
        }
      ]
    },
    {
      "cell_type": "markdown",
      "metadata": {
        "id": "hEQEudM7_NfF"
      },
      "source": [
        "#Main Functions"
      ]
    },
    {
      "cell_type": "code",
      "metadata": {
        "id": "X_ZY2NMTwAec"
      },
      "source": [
        "class Server():\n",
        "  def __init__(self):\n",
        "    print('Server initialized')\n",
        "\n",
        "  def generate_point(self, size=14):\n",
        "    # permutation key\n",
        "    key1 = self.generate_permutation_key()\n",
        "    # OTP key\n",
        "    x_key = np.random.randint(2, size=size)\n",
        "    z_key = np.random.randint(2, size=size)\n",
        "    key2 = [x_key.tolist(), z_key.tolist()]\n",
        "    # add all keys to get point\n",
        "    a = ''.join(key1)\n",
        "    b = ''.join(map(str, x_key.tolist()))\n",
        "    c = ''.join(map(str,z_key.tolist()))\n",
        "    point = a+b+c\n",
        "\n",
        "    key1 = [int(x,2) for x in key1]\n",
        "    return point, key1, key2\n",
        "  \n",
        "  def generate_permutation_key(self, size=14):\n",
        "    dec_key = list(range(size))\n",
        "    rng = np.random.default_rng()\n",
        "    rng.shuffle(dec_key)\n",
        "    f = '0' + str(math.ceil(math.log2(size))) + 'b'\n",
        "    key1 = [format(x, f) for x in dec_key]\n",
        "    return key1\n",
        "\n",
        "  def sample_challenge_point(self, point, size=14): #make distribution half and half\n",
        "    key1 = self.generate_permutation_key()\n",
        "    key1 = \"\".join(key1)\n",
        "    # print(dec_key)\n",
        "    # print(key1)\n",
        "    key2_dec = random.randint(0, (2**(size*2))-1)\n",
        "    key2_bin = format(key2_dec,'0'+str(size*2)+'b')\n",
        "\n",
        "    random_point = str(key1) + str(key2_bin)\n",
        "    while random_point == point:\n",
        "      key2_dec = random.randint(0, (2**(size*2))-1)\n",
        "      key2_bin = format(key2_dec,'0'+str(size*2)+'b')\n",
        "      random_point = str(key1) + str(key2_bin)\n",
        "    # print(key2_bin)\n",
        "    sample = np.random.choice([random_point, point])\n",
        "    return sample"
      ],
      "execution_count": 5,
      "outputs": []
    },
    {
      "cell_type": "code",
      "metadata": {
        "id": "lgI2u67awJwr"
      },
      "source": [
        "def protect(permuted_gates, hg, x_key, z_key, init_data = [0]*14, size=14):\n",
        "  qr = QuantumRegister(size)\n",
        "  circuit = QuantumCircuit(qr)\n",
        "  for i in range(size):\n",
        "    if x_key[i] == 1 and init_data[i] == 0:\n",
        "      circuit.x(i)\n",
        "    if init_data[i] == '+':\n",
        "      circuit.h(i)\n",
        "    \n",
        "  for i in hg:\n",
        "    circuit.h(i)\n",
        "  \n",
        "  for cnots in permuted_gates:\n",
        "    circuit.cx(cnots[0], cnots[1])\n",
        "  circuit.barrier()\n",
        "  return circuit\n",
        "\n",
        "def get_syndrome_circuit(challenge_input, program, size=14):\n",
        "\n",
        "  key1, key2 = point_to_keys(challenge_input) \n",
        "\n",
        "  qr = QuantumRegister(size)\n",
        "  sr = QuantumRegister(6)\n",
        "  cr = ClassicalRegister(6)\n",
        "  qc = QuantumCircuit(qr,sr, cr)\n",
        "  qc.append(program, range(size))\n",
        "\n",
        "  for i in range(14,20):\n",
        "    qc.h(i)\n",
        "\n",
        "  syndrome_cnots =[[0, 14], [2, 14], [4, 14], [6, 14], [1, 15], [2, 15], [5, 15], [6, 15], [3, 16], [4, 16], [5, 16], [6, 16], [7, 17], [9, 17], [11, 17], [13, 17], [8, 18], [9, 18], [12, 18], [13, 18], [10, 19], [11, 19], [12, 19], [13, 19]]\n",
        "\n",
        "  for gate in syndrome_cnots:\n",
        "    qc.cx(gate[1], key1.index(gate[0]))\n",
        "\n",
        "  for i in range(14,20):\n",
        "    qc.h(i)\n",
        "\n",
        "  qc.barrier()\n",
        "  qc.measure(sr,cr)\n",
        "  return qc\n",
        "\n",
        "\n",
        "def point_to_keys(point, size=14):\n",
        "  inc = math.ceil(math.log2(size))\n",
        "  key1 = [int(point[i:i+inc],2) for i in range(0, len(point[:-size*2]), inc)] \n",
        "  key2_x = [int(value) for value in point[-size*2:-size]]\n",
        "  key2_z = [int(value) for value in point[-size:]]\n",
        "  # key2 = [key2_x, key2_z]\n",
        "  return key1, [key2_x, key2_z]\n",
        "\n",
        "\n",
        "def permute_classical(key1, orig_cnot_gates, hadamard_gates = [1,2,3,8,9,10],size=14):\n",
        "  new_hadamard_gates = [0]*len(hadamard_gates)\n",
        "  new_cnot_gates = [0]*len(orig_cnot_gates)\n",
        "\n",
        "  for i in range(len(orig_cnot_gates)):\n",
        "    new_cnot_gates[i] = [key1.index(orig_cnot_gates[i][0]), key1.index(orig_cnot_gates[i][1])]\n",
        "  for i in range(len(hadamard_gates)):\n",
        "    new_hadamard_gates[i] = key1.index(hadamard_gates[i])\n",
        "\n",
        "  return new_cnot_gates, new_hadamard_gates\n",
        "\n",
        "\n",
        "def get_OTP_classical_key(key, permutation_key, cnot_gates, hadamard_gates):\n",
        "  x_key = key[0]\n",
        "  z_key = key[1]\n",
        "  # size = 14\n",
        "\n",
        "  for cnot in cnot_gates:\n",
        "    a = x_key[cnot[0]]\n",
        "    b = z_key[cnot[0]]\n",
        "    c = x_key[cnot[1]]\n",
        "    d = z_key[cnot[1]]\n",
        "    x_key[cnot[0]] = a\n",
        "    z_key[cnot[0]] = b+d\n",
        "    x_key[cnot[1]] = a+c\n",
        "    z_key[cnot[1]] = d\n",
        "\n",
        "  for i in hadamard_gates:\n",
        "    x_key[i], z_key[i] = z_key[i], x_key[i]\n",
        "\n",
        "  new_x_key = [i%2 for i in x_key]\n",
        "  new_z_key = [i%2 for i in z_key]\n",
        "\n",
        "  return new_x_key, new_z_key\n",
        "\n",
        "\n",
        "def undo_circuit(point, program, rev_cnot_gates=[[3,6],[3,5],[3,4],[2,6],[2,4],[2,0],[1,5],[1,4],[1,0],[0,6],[0,5],[10, 13],[10, 12],[10, 11],[9, 13],[9, 11],[9, 7],[8, 12],[8, 11],[8, 7],[7, 13],[7, 12]], size=14):\n",
        "\n",
        "  key1, key2 = point_to_keys(point) \n",
        "  print(\"rev len:\", len(rev_cnot_gates))\n",
        "  permuted_cnots, hg =permute_classical(key1, orig_cnot_gates = rev_cnot_gates)\n",
        "  qr = QuantumRegister(size)\n",
        "  cr_trap = ClassicalRegister(size)\n",
        "  qc = QuantumCircuit(qr, cr_trap)\n",
        "  qc.append(program, range(size))\n",
        "\n",
        "  for cnot in permuted_cnots:\n",
        "    qc.cx(cnot[0], cnot[1])\n",
        "  \n",
        "  qc.barrier()\n",
        "  for gate in hg:\n",
        "    qc.h(gate)\n",
        "  qc.barrier()\n",
        "\n",
        "  qc.measure(qr, cr_trap)\n",
        "  return qc\n",
        "  \n",
        "def reverse_cnots(cnots):\n",
        "  rev_cnots = []\n",
        "  for i in range(len(cnots)):\n",
        "    rev_cnots.append(cnots[len(cnots)-i-1])\n",
        "  return rev_cnots"
      ],
      "execution_count": 6,
      "outputs": []
    },
    {
      "cell_type": "markdown",
      "metadata": {
        "id": "HTHj1G8rwnWe"
      },
      "source": [
        "# Tests"
      ]
    },
    {
      "cell_type": "code",
      "metadata": {
        "colab": {
          "base_uri": "https://localhost:8080/"
        },
        "id": "g0TeOMPP0iRX",
        "outputId": "16945b3b-332e-4295-8346-6641fd2af192"
      },
      "source": [
        "server = Server()\n",
        "start = time.time()\n",
        "fields = ['is_point', 'point_value', 'challenge_point_value', 'key_1', 'key_2', 'challenge_key_1', 'challenge_key_2']"
      ],
      "execution_count": 7,
      "outputs": [
        {
          "output_type": "stream",
          "text": [
            "Server initialized\n"
          ],
          "name": "stdout"
        }
      ]
    },
    {
      "cell_type": "markdown",
      "metadata": {
        "id": "HYg6TS0CyoD7"
      },
      "source": [
        "## Measurement Error Mitigation"
      ]
    },
    {
      "cell_type": "code",
      "metadata": {
        "colab": {
          "base_uri": "https://localhost:8080/",
          "height": 301
        },
        "id": "Tq7GRoGOynon",
        "outputId": "6dc2297f-485a-489a-d8b4-d67667314899"
      },
      "source": [
        "s = time.time()\n",
        "qr = QuantumRegister(6) # quantum circuit with three qubits\n",
        "qulayout = range(6)\n",
        "cal_circuits, state_labels = complete_meas_cal(qubit_list=qulayout,qr=qr, circlabel=\"measure_error_mitigation_cal\" )\n",
        "cal_job = execute(cal_circuits, backend = BACKEND, shots=NUM_SHOTS)\n",
        "\n",
        "cal_results = cal_job.result()\n",
        "meas_fitter = CompleteMeasFitter(cal_results, state_labels)\n",
        "meas_fitter.plot_calibration()\n",
        "meas_filter = meas_fitter.filter\n",
        "x = time.time() -s\n",
        "print(x)"
      ],
      "execution_count": 8,
      "outputs": [
        {
          "output_type": "display_data",
          "data": {
            "image/png": "[encoded data removed]",
            "text/plain": [
              "<Figure size 432x288 with 2 Axes>"
            ]
          },
          "metadata": {
            "tags": [],
            "needs_background": "light"
          }
        },
        {
          "output_type": "stream",
          "text": [
            "10.048921346664429\n"
          ],
          "name": "stdout"
        }
      ]
    },
    {
      "cell_type": "markdown",
      "metadata": {
        "id": "uXyxy3Dgxgyr"
      },
      "source": [
        "## Steane code for |0> and |+> trap code (14 Qubits) "
      ]
    },
    {
      "cell_type": "code",
      "metadata": {
        "id": "HUP0t-6dVxLA"
      },
      "source": [
        " CNOT_GATES = [[1,0], [1,4], [1,5], [2,0], [2,4], [2,6], [3,4], [3,5],[3,6],[7, 12],[7, 13],[8,7] ,[8, 11],[8, 12], [9,7],[9, 11],[9, 13],[10, 11],[10, 12],[10, 13]]\n",
        " REV_CNOT_GATES = [[10, 13],[10, 12],[10, 11],[9, 13],[9, 11],[9,7],[8, 12],[8, 11],[8,7],[7, 13],[7, 12],[3,6],[3,5],[3,4],[2,6],[2,4],[2,0],[1,5],[1,4],[1,0]]"
      ],
      "execution_count": 9,
      "outputs": []
    },
    {
      "cell_type": "markdown",
      "metadata": {
        "id": "2w3FPX5yxz0w"
      },
      "source": [
        "\n",
        "\n",
        "\n",
        "> ### Test 1.1: Point = Challenge Input Correctness Check"
      ]
    },
    {
      "cell_type": "code",
      "metadata": {
        "id": "gp2Uw_mwxzdC",
        "colab": {
          "base_uri": "https://localhost:8080/"
        },
        "outputId": "587020e9-9a17-41fa-c4bd-79b181ed4e44"
      },
      "source": [
        "results_info = pd.DataFrame(columns=fields)\n",
        "results_info_decoded = pd.DataFrame(columns=fields)\n",
        "sp_list= []\n",
        "dp_list = []\n",
        "A_values = []\n",
        "print(\"_____________PART A: Challenge Input = Point_____________\")\n",
        "for i in range(NUM_DIFF_PROGRAMS):\n",
        "  p, k1, k2 = server.generate_point()\n",
        "  key2 = [k2[0][:], k2[1][:]]\n",
        "  pg, hg = permute_classical(k1, orig_cnot_gates=CNOT_GATES)\n",
        "  rev = reverse_cnots(pg)\n",
        "  x_key, z_key = get_OTP_classical_key(k2,k1, rev,hg)\n",
        "  data = [0]*14\n",
        "  data[k1.index(7)] = '+'\n",
        "  program = protect(pg, hg, x_key, z_key, init_data=data)\n",
        "  challenge_input = p\n",
        "  challenge_key1, challenge_key2 = point_to_keys(challenge_input)  \n",
        "  A_values.append([p,k1,k2,challenge_input, challenge_key1, challenge_key2])  \n",
        "  for k in range(NUM_ITERATIONS): \n",
        "    syndrome_program = get_syndrome_circuit(p,program)\n",
        "    decoded_program = undo_circuit(challenge_input, program, rev_cnot_gates=REV_CNOT_GATES)\n",
        "    sp_list = sp_list + [syndrome_program]\n",
        "    dp_list = dp_list + [decoded_program]\n",
        "    index = i*NUM_ITERATIONS+k\n",
        "    results_info.loc[index] = [str(p) == str(challenge_input), p, challenge_input, k1, key2, challenge_key1, challenge_key2]\n",
        "    results_info_decoded.loc[index] = [str(p) == str(challenge_input), p, challenge_input, k1, key2, challenge_key1, challenge_key2]\n"
      ],
      "execution_count": 10,
      "outputs": [
        {
          "output_type": "stream",
          "text": [
            "_____________PART A: Challenge Input = Point_____________\n",
            "rev len: 20\n"
          ],
          "name": "stdout"
        }
      ]
    },
    {
      "cell_type": "markdown",
      "metadata": {
        "id": "-0vVefFUyGWy"
      },
      "source": [
        "\n",
        "\n",
        "> ### Test 1.2: Point != Challenge Input, w/ 1 permutation error Correctness Check\n",
        "\n",
        "\n"
      ]
    },
    {
      "cell_type": "code",
      "metadata": {
        "colab": {
          "base_uri": "https://localhost:8080/"
        },
        "id": "pQlfO3-hyF2h",
        "outputId": "9dfe045e-0c6a-4f6f-b58f-9f9a401467c2"
      },
      "source": [
        "B_values = []\n",
        "print(\"\\n_____________PART B: Challenge Input != Point - one Permutation Error_____________\")\n",
        "for j in range(NUM_DIFF_PROGRAMS):\n",
        "  p, k1, k2 = server.generate_point()\n",
        "  key2 = [k2[0][:], k2[1][:]]\n",
        "  print(\"k1\", k1)\n",
        "  i = np.random.choice(14,2,False)\n",
        "  edited_k1 = k1[:]\n",
        "  edited_k1[i[0]], edited_k1[i[1]] = k1[i[1]], k1[i[0]]\n",
        "  f = '0' + str(math.ceil(math.log2(14))) + 'b'\n",
        "  new_key1 = [format(x, f) for x in edited_k1]\n",
        "  challenge_input = str(\"\".join(new_key1)) + str(p[-28:])\n",
        "  challenge_key1, challenge_key2 = point_to_keys(challenge_input)\n",
        "  B_values.append([p,k1,k2,challenge_input,challenge_key1, challenge_key2])  \n",
        "\n",
        "  pg, hg = permute_classical(k1, orig_cnot_gates=CNOT_GATES)\n",
        "  rev = reverse_cnots(pg)\n",
        "  x_key, z_key = get_OTP_classical_key(k2,k1, rev,hg)\n",
        "  data = [0]*14\n",
        "  data[k1.index(7)] = '+'\n",
        "  program = protect(pg, hg, x_key, z_key, init_data=data)\n",
        "  for k in range(NUM_ITERATIONS): \n",
        "    syndrome_program = get_syndrome_circuit(p,program)\n",
        "    decoded_program = undo_circuit(challenge_input, program, rev_cnot_gates=REV_CNOT_GATES)\n",
        "    sp_list = sp_list + [syndrome_program]\n",
        "    dp_list = dp_list + [decoded_program]\n",
        "    index = j*NUM_ITERATIONS+k +(NUM_ITERATIONS*NUM_DIFF_PROGRAMS)\n",
        "    results_info_decoded.loc[index] = [str(p) == str(challenge_input), p, challenge_input, k1, key2, challenge_key1, challenge_key2]\n",
        "    results_info.loc[index] = [str(p) == str(challenge_input), p, challenge_input, k1, key2, challenge_key1, challenge_key2]\n",
        "print(len(results_info))\n"
      ],
      "execution_count": 11,
      "outputs": [
        {
          "output_type": "stream",
          "text": [
            "\n",
            "_____________PART B: Challenge Input != Point - one Permutation Error_____________\n",
            "k1 [9, 6, 10, 8, 2, 4, 0, 1, 13, 7, 11, 12, 3, 5]\n",
            "rev len: 20\n",
            "2\n"
          ],
          "name": "stdout"
        }
      ]
    },
    {
      "cell_type": "markdown",
      "metadata": {
        "id": "x8WCxgdHyUft"
      },
      "source": [
        "\n",
        "\n",
        "> ### Test 1.3: Point != Challenge Input, w/ 1 X error Correctness Check\n"
      ]
    },
    {
      "cell_type": "code",
      "metadata": {
        "colab": {
          "base_uri": "https://localhost:8080/"
        },
        "id": "fSRv3c4HyU6y",
        "outputId": "57e4ddc4-bd75-4627-bb64-a98ad92b4e6a"
      },
      "source": [
        "C_values = []\n",
        "print(\"\\n_____________PART C: Challenge Input != Point - one X Error_____________\")\n",
        "for j in range(NUM_DIFF_PROGRAMS):\n",
        "  p, k1, k2 = server.generate_point()\n",
        "  key2 = [k2[0][:], k2[1][:]]\n",
        "  i = np.random.choice(6,1,False)\n",
        "  index = (i[0]-14)\n",
        "  challenge_input = str(p[:index]) + str((int(p[index])+1)%2) + str(p[index+1:])\n",
        "  challenge_key1, challenge_key2 = point_to_keys(challenge_input)\n",
        "  pg, hg = permute_classical(k1, orig_cnot_gates=CNOT_GATES) \n",
        "  rev = reverse_cnots(pg)\n",
        "  x_key, z_key = get_OTP_classical_key(k2,k1, rev,hg)\n",
        "  data = [0]*14\n",
        "  data[k1.index(7)] = '+'\n",
        "  program = protect(pg, hg, x_key, z_key, init_data=data)\n",
        "  C_values.append([p,k1,k2,challenge_input,challenge_key1, challenge_key2])  \n",
        "   \n",
        "  for k in range(NUM_ITERATIONS): \n",
        "    syndrome_program = get_syndrome_circuit(p,program)\n",
        "    decoded_program = undo_circuit(challenge_input, program, rev_cnot_gates=REV_CNOT_GATES)\n",
        "    sp_list = sp_list + [syndrome_program]\n",
        "    dp_list = dp_list + [decoded_program]\n",
        "    index = j*NUM_ITERATIONS+k +(NUM_ITERATIONS*NUM_DIFF_PROGRAMS*2)\n",
        "    results_info_decoded.loc[index] = [str(p) == str(challenge_input), p, challenge_input, k1, key2, challenge_key1, challenge_key2]\n",
        "    results_info.loc[index] = [str(p) == str(challenge_input), p, challenge_input, k1, key2, challenge_key1, challenge_key2]\n",
        "print(len(results_info))"
      ],
      "execution_count": 12,
      "outputs": [
        {
          "output_type": "stream",
          "text": [
            "\n",
            "_____________PART C: Challenge Input != Point - one X Error_____________\n",
            "rev len: 20\n",
            "3\n"
          ],
          "name": "stdout"
        }
      ]
    },
    {
      "cell_type": "markdown",
      "metadata": {
        "id": "8KyW4D54yYjb"
      },
      "source": [
        "\n",
        "> ### Test 1.4: Point != Challenge Input, w/ 1 Z error Correctness Check\n",
        "\n",
        "\n",
        "\n"
      ]
    },
    {
      "cell_type": "code",
      "metadata": {
        "colab": {
          "base_uri": "https://localhost:8080/"
        },
        "id": "QRovXUilyvIZ",
        "outputId": "d6c98819-e8ef-44f0-fc28-2e867d29ec89"
      },
      "source": [
        "D_values = []\n",
        "print(\"\\n_____________PART D: Challenge Input != Point - one Z-Error_____________\")\n",
        "for j in range(NUM_DIFF_PROGRAMS ):\n",
        "  p, k1, k2 = server.generate_point()\n",
        "  key2 = [k2[0][:], k2[1][:]]\n",
        "  i = np.random.choice(5,1,False)\n",
        "  index = (i[0]-7)\n",
        "  challenge_input = str(p[:index]) + str((int(p[index])+1)%2) + str(p[index+1:])\n",
        "  challenge_key1, challenge_key2 = point_to_keys(challenge_input)\n",
        "  pg, hg = permute_classical(k1, orig_cnot_gates=CNOT_GATES)\n",
        "  rev = reverse_cnots(pg)\n",
        "  x_key, z_key = get_OTP_classical_key(k2,k1, rev,hg)\n",
        "  data = [0]*14\n",
        "  data[k1.index(7)] = '+'\n",
        "  program = protect(pg, hg, x_key, z_key, init_data=data)\n",
        "  D_values.append([p,k1,k2,challenge_input,challenge_key1, challenge_key2])  \n",
        "\n",
        "  for k in range(NUM_ITERATIONS): \n",
        "    syndrome_program = get_syndrome_circuit(p,program)\n",
        "    decoded_program = undo_circuit(challenge_input, program, rev_cnot_gates=REV_CNOT_GATES)\n",
        "    sp_list = sp_list + [syndrome_program]\n",
        "    dp_list = dp_list + [decoded_program]\n",
        "    index = j*NUM_ITERATIONS+k +(NUM_ITERATIONS*NUM_DIFF_PROGRAMS*3)\n",
        "    results_info.loc[index] = [str(p) == str(challenge_input), p, challenge_input, k1, key2, challenge_key1, challenge_key2]\n",
        "    results_info_decoded.loc[index] = [str(p) == str(challenge_input), p, challenge_input, k1, key2, challenge_key1, challenge_key2]\n",
        "\n",
        "print(len(results_info))"
      ],
      "execution_count": 13,
      "outputs": [
        {
          "output_type": "stream",
          "text": [
            "\n",
            "_____________PART D: Challenge Input != Point - one Z-Error_____________\n",
            "rev len: 20\n",
            "4\n"
          ],
          "name": "stdout"
        }
      ]
    },
    {
      "cell_type": "markdown",
      "metadata": {
        "id": "cJlrozBnycGE"
      },
      "source": [
        "\n",
        "> ### Test 1.5: Point != Challenge Input, w/ 1 X, Z error EACH\n",
        "\n",
        "\n",
        "\n"
      ]
    },
    {
      "cell_type": "code",
      "metadata": {
        "colab": {
          "base_uri": "https://localhost:8080/"
        },
        "id": "ot8B4jgByvz6",
        "outputId": "04598297-609c-47a0-97b1-b38ee8e796ac"
      },
      "source": [
        "E_values = []\n",
        "print(\"\\n_____________PART E: Challenge Input != Point - one X and Z Error_____________\")\n",
        "for j in range(NUM_DIFF_PROGRAMS):\n",
        "  p, k1, k2 = server.generate_point()\n",
        "  key2 = [k2[0][:], k2[1][:]]\n",
        "\n",
        "  i = np.sort(np.random.choice(5,2,False))\n",
        "  x_error_index = i[0] - 14\n",
        "  z_error_index = i[1] - 7\n",
        "  challenge_input = str(p[:x_error_index]) + str((int(p[x_error_index])+1)%2) + str(p[x_error_index+1: z_error_index])+ str((int(p[z_error_index])+1)%2)+ str(p[z_error_index+1:])\n",
        "  challenge_key1, challenge_key2 = point_to_keys(challenge_input)\n",
        "  pg, hg = permute_classical(k1, orig_cnot_gates=CNOT_GATES)\n",
        "  rev = reverse_cnots(pg)\n",
        "  x_key, z_key = get_OTP_classical_key(k2,k1, rev,hg)\n",
        "  data = [0]*14\n",
        "  data[k1.index(7)] = '+'\n",
        "  program = protect(pg, hg, x_key, z_key, init_data=data)\n",
        "  E_values.append([p,k1,k2,challenge_input,challenge_key1, challenge_key2])  \n",
        "\n",
        "  for k in range(NUM_ITERATIONS): \n",
        "    syndrome_program = get_syndrome_circuit(p,program)\n",
        "    decoded_program = undo_circuit(challenge_input, program, rev_cnot_gates=REV_CNOT_GATES)\n",
        "    sp_list = sp_list + [syndrome_program]\n",
        "    dp_list = dp_list + [decoded_program]\n",
        "    index = j*NUM_ITERATIONS+k +(NUM_ITERATIONS*NUM_DIFF_PROGRAMS*4)\n",
        "    results_info.loc[index] = [str(p) == str(challenge_input), p, challenge_input, k1, key2, challenge_key1, challenge_key2]\n",
        "    results_info_decoded.loc[index] = [str(p) == str(challenge_input), p, challenge_input, k1, key2, challenge_key1, challenge_key2]\n",
        "\n",
        "print(len(results_info))"
      ],
      "execution_count": 14,
      "outputs": [
        {
          "output_type": "stream",
          "text": [
            "\n",
            "_____________PART E: Challenge Input != Point - one X and Z Error_____________\n",
            "rev len: 20\n",
            "5\n"
          ],
          "name": "stdout"
        }
      ]
    },
    {
      "cell_type": "markdown",
      "metadata": {
        "id": "19ncDirWyibr"
      },
      "source": [
        "\n",
        "\n",
        "> ### Test 1.6: Point != Challenge Input, w/ 1 random error Correctness Check\n",
        "\n"
      ]
    },
    {
      "cell_type": "code",
      "metadata": {
        "colab": {
          "base_uri": "https://localhost:8080/"
        },
        "id": "5EOv1CBMywbg",
        "outputId": "914ad750-7812-41ad-c3f7-2161f89a96ea"
      },
      "source": [
        "F_values = []\n",
        "print(\"\\n_____________PART F: Random Challenge Input_____________\")\n",
        "for i in range(NUM_RANDOM_ITERATIONS):\n",
        "  # server = Server()\n",
        "  p, k1, k2 = server.generate_point()\n",
        "  key2 = [k2[0][:], k2[1][:]]\n",
        "  pg, hg = permute_classical(k1, orig_cnot_gates=CNOT_GATES) \n",
        "  rev = reverse_cnots(pg)\n",
        "  x_key, z_key = get_OTP_classical_key(k2,k1, rev,hg)\n",
        "  data = [0]*14\n",
        "  data[k1.index(7)] = '+'\n",
        "  program = protect(pg, hg, x_key, z_key, init_data=data)\n",
        "  challenge_input = server.sample_challenge_point(p)\n",
        "  challenge_key1, challenge_key2 = point_to_keys(challenge_input)\n",
        "\n",
        "  F_values.append([p,k1,k2,challenge_input,challenge_key1, challenge_key2])  \n",
        "\n",
        "  syndrome_program = get_syndrome_circuit(p,program)\n",
        "  decoded_program = undo_circuit(challenge_input, program, rev_cnot_gates=REV_CNOT_GATES)\n",
        "  sp_list = sp_list + [syndrome_program]\n",
        "  dp_list = dp_list + [decoded_program]\n",
        "  index = (NUM_ITERATIONS*NUM_DIFF_PROGRAMS*5)+i\n",
        "  results_info.loc[index] = [str(p) == str(challenge_input), p, challenge_input, k1, key2, challenge_key1, challenge_key2]\n",
        "  results_info_decoded.loc[index] = [str(p) == str(challenge_input), p, challenge_input, k1, key2, challenge_key1, challenge_key2]\n",
        "\n"
      ],
      "execution_count": 15,
      "outputs": [
        {
          "output_type": "stream",
          "text": [
            "\n",
            "_____________PART F: Random Challenge Input_____________\n",
            "rev len: 20\n"
          ],
          "name": "stdout"
        }
      ]
    },
    {
      "cell_type": "markdown",
      "metadata": {
        "id": "hzTm1zV6kR6l"
      },
      "source": [
        "## EXECUTE CIRCUITS"
      ]
    },
    {
      "cell_type": "markdown",
      "metadata": {
        "id": "lNCA7oKNkHnp"
      },
      "source": [
        "### Transpile Code"
      ]
    },
    {
      "cell_type": "markdown",
      "metadata": {
        "id": "N4SLz1ZIkaFd"
      },
      "source": [
        "### Apply permutation of circuit to get optimal qubit mapping"
      ]
    },
    {
      "cell_type": "code",
      "metadata": {
        "colab": {
          "base_uri": "https://localhost:8080/"
        },
        "id": "p6Azi1VlkZsb",
        "outputId": "913193d2-daf2-4cb4-e9f3-a5699666e2e5"
      },
      "source": [
        "init_qubits= []\n",
        "init_qubits_msg = []\n",
        "for key1 in results_info.challenge_key_1:\n",
        "  k1 = key1[:]\n",
        "  for i in range(len(k1)):\n",
        "    k1[i]= unpermuted_layout[k1[i]]\n",
        "  init_qubits_msg.append(k1[:])\n",
        "  for j in syndrome_layout:\n",
        "    k1.append(j)\n",
        "  init_qubits.append(k1)\n",
        "\n",
        "d = {}\n",
        "transpiled_sp_list = []\n",
        "transpiled_sp_depths = []\n",
        "for i in range(len(sp_list)):\n",
        "  min_circ = transpile(sp_list[i], BACKEND, initial_layout=init_qubits[i])\n",
        "  min_depth = min_circ.depth()\n",
        "  for j in range(1):\n",
        "    transpiled_circ = transpile(sp_list[i], BACKEND, initial_layout=init_qubits[i],optimization_level=2)\n",
        "    depth = transpiled_circ.depth()\n",
        "    if depth < min_depth:\n",
        "      min_depth = depth\n",
        "      min_circ = transpiled_circ\n",
        "\n",
        "    if depth in d:\n",
        "      d[depth] = d[depth] +1\n",
        "    else:\n",
        "      d[depth] = 1\n",
        "  transpiled_sp_list.append(min_circ)\n",
        "  transpiled_sp_depths.append(min_circ.depth())\n",
        "  print(min_depth)\n",
        "\n",
        "transpiled_sp_msg_list = []\n",
        "transpiled_sp_msg_depths = []\n",
        "\n",
        "for i in range(len(dp_list)):\n",
        "  min_circ = transpile(dp_list[i], BACKEND, initial_layout=init_qubits_msg[i])\n",
        "  min_depth = min_circ.depth()\n",
        "  for j in range(1):\n",
        "    transpiled_circ = transpile(dp_list[i], BACKEND, initial_layout=init_qubits_msg[i],optimization_level=2)\n",
        "    depth = transpiled_circ.depth()\n",
        "    if depth < min_depth:\n",
        "      min_depth = depth\n",
        "      min_circ = transpiled_circ\n",
        "\n",
        "    if depth in d:\n",
        "      d[depth] = d[depth] +1\n",
        "    else:\n",
        "      d[depth] = 1\n",
        "  transpiled_sp_msg_list.append(min_circ)\n",
        "  transpiled_sp_msg_depths.append(min_circ.depth())\n",
        "\n",
        "  print(min_depth)\n",
        "\n"
      ],
      "execution_count": 16,
      "outputs": [
        {
          "output_type": "stream",
          "text": [
            "83\n",
            "86\n",
            "90\n",
            "87\n",
            "90\n",
            "93\n",
            "58\n",
            "78\n",
            "60\n",
            "61\n",
            "61\n",
            "53\n"
          ],
          "name": "stdout"
        }
      ]
    },
    {
      "cell_type": "markdown",
      "metadata": {
        "id": "Fj_80G42kjGa"
      },
      "source": [
        "> ### Run Transpiled Circuits on Quantum Computers"
      ]
    },
    {
      "cell_type": "code",
      "metadata": {
        "id": "r2P9-qqYkMIS"
      },
      "source": [
        "job = execute(transpiled_sp_list, BACKEND, shots=NUM_SHOTS)\n",
        "\n",
        "results_sim = job.result()\n",
        "counts = results_sim.get_counts()\n",
        "\n",
        "mit_counts_list = []\n",
        "\n",
        "for j in range(NUM_ITERATIONS*NUM_DIFF_PROGRAMS*5+ NUM_RANDOM_ITERATIONS):\n",
        "  mitigated_result = meas_filter.apply(results_sim)\n",
        "  mitigated_counts = mitigated_result.get_counts(transpiled_sp_list[j])\n",
        "  mit_counts_list.append(str(mitigated_counts))\n",
        "\n",
        "results_info.insert(7, \"device_counts\",counts)\n",
        "results_info.insert(8, \"mitigated_counts\",mit_counts_list)\n",
        "results_info.insert(9, \"circuit_depth\", transpiled_sp_depths)\n",
        "results_info.to_csv(filename_error)\n"
      ],
      "execution_count": 17,
      "outputs": []
    },
    {
      "cell_type": "code",
      "metadata": {
        "id": "zxwtEVarknXU"
      },
      "source": [
        "job = execute(transpiled_sp_msg_list, BACKEND, shots=NUM_SHOTS)\n",
        "results_sim = job.result()\n",
        "counts = results_sim.get_counts()\n",
        "\n",
        "results_info_decoded.insert(7, \"device_counts\",counts)\n",
        "results_info_decoded.insert(8, \"circuit_depth\", transpiled_sp_msg_depths)\n",
        "results_info_decoded.to_csv(filename_decoded)"
      ],
      "execution_count": 21,
      "outputs": []
    },
    {
      "cell_type": "code",
      "metadata": {
        "id": "LCkZL1Gm8NdA"
      },
      "source": [
        "with open(filename_0, 'w') as writefile:\n",
        "  x = time.time() - start\n",
        "  writefile.write(\"--------------------ELAPSED TIME: \\n\")\n",
        "  writefile.write(str(x))"
      ],
      "execution_count": 22,
      "outputs": []
    }
  ]
}