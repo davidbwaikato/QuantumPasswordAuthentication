{
 "cells": [
  {
   "cell_type": "code",
   "execution_count": 3,
   "metadata": {
    "colab": {
     "base_uri": "https://localhost:8080/"
    },
    "id": "eUOF0pvsvTsz",
    "outputId": "3837ebf1-2a04-4a1e-beaa-9c7bd7c974a5"
   },
   "outputs": [
    {
     "name": "stdout",
     "output_type": "stream",
     "text": [
      "The history saving thread hit an unexpected error (OperationalError('attempt to write a readonly database')).History will not be written to the database.\n",
      "Requirement already satisfied: pandas in /home/davidb/research/code-unmanaged/quantum-computing/python3-for-qiskit36/lib/python3.10/site-packages (2.2.3)\n",
      "Requirement already satisfied: wheel in /home/davidb/research/code-unmanaged/quantum-computing/python3-for-qiskit36/lib/python3.10/site-packages (0.45.1)\n",
      "Requirement already satisfied: qiskit==0.36.0 in /home/davidb/research/code-unmanaged/quantum-computing/python3-for-qiskit36/lib/python3.10/site-packages (0.36.0)\n",
      "Requirement already satisfied: qiskit-ibmq-provider==0.19.0 in /home/davidb/research/code-unmanaged/quantum-computing/python3-for-qiskit36/lib/python3.10/site-packages (from qiskit==0.36.0) (0.19.0)\n",
      "Requirement already satisfied: qiskit-aer==0.10.4 in /home/davidb/research/code-unmanaged/quantum-computing/python3-for-qiskit36/lib/python3.10/site-packages (from qiskit==0.36.0) (0.10.4)\n",
      "Requirement already satisfied: qiskit-terra==0.20.0 in /home/davidb/research/code-unmanaged/quantum-computing/python3-for-qiskit36/lib/python3.10/site-packages (from qiskit==0.36.0) (0.20.0)\n",
      "Requirement already satisfied: qiskit-ignis==0.7.0 in /home/davidb/research/code-unmanaged/quantum-computing/python3-for-qiskit36/lib/python3.10/site-packages (from qiskit==0.36.0) (0.7.0)\n",
      "Requirement already satisfied: numpy>=1.16.3 in /home/davidb/research/code-unmanaged/quantum-computing/python3-for-qiskit36/lib/python3.10/site-packages (from qiskit-aer==0.10.4->qiskit==0.36.0) (2.2.2)\n",
      "Requirement already satisfied: scipy>=1.0 in /home/davidb/research/code-unmanaged/quantum-computing/python3-for-qiskit36/lib/python3.10/site-packages (from qiskit-aer==0.10.4->qiskit==0.36.0) (1.15.1)\n",
      "Requirement already satisfied: websockets>=10.0 in /home/davidb/research/code-unmanaged/quantum-computing/python3-for-qiskit36/lib/python3.10/site-packages (from qiskit-ibmq-provider==0.19.0->qiskit==0.36.0) (14.2)\n",
      "Requirement already satisfied: urllib3>=1.21.1 in /home/davidb/research/code-unmanaged/quantum-computing/python3-for-qiskit36/lib/python3.10/site-packages (from qiskit-ibmq-provider==0.19.0->qiskit==0.36.0) (2.3.0)\n",
      "Requirement already satisfied: python-dateutil>=2.8.0 in /home/davidb/research/code-unmanaged/quantum-computing/python3-for-qiskit36/lib/python3.10/site-packages (from qiskit-ibmq-provider==0.19.0->qiskit==0.36.0) (2.9.0.post0)\n",
      "Requirement already satisfied: requests-ntlm>=1.1.0 in /home/davidb/research/code-unmanaged/quantum-computing/python3-for-qiskit36/lib/python3.10/site-packages (from qiskit-ibmq-provider==0.19.0->qiskit==0.36.0) (1.3.0)\n",
      "Requirement already satisfied: websocket-client>=1.0.1 in /home/davidb/research/code-unmanaged/quantum-computing/python3-for-qiskit36/lib/python3.10/site-packages (from qiskit-ibmq-provider==0.19.0->qiskit==0.36.0) (1.8.0)\n",
      "Requirement already satisfied: requests>=2.19 in /home/davidb/research/code-unmanaged/quantum-computing/python3-for-qiskit36/lib/python3.10/site-packages (from qiskit-ibmq-provider==0.19.0->qiskit==0.36.0) (2.32.3)\n",
      "Requirement already satisfied: retworkx>=0.8.0 in /home/davidb/research/code-unmanaged/quantum-computing/python3-for-qiskit36/lib/python3.10/site-packages (from qiskit-ignis==0.7.0->qiskit==0.36.0) (0.16.0)\n",
      "Requirement already satisfied: setuptools>=40.1.0 in /home/davidb/research/code-unmanaged/quantum-computing/python3-for-qiskit36/lib/python3.10/site-packages (from qiskit-ignis==0.7.0->qiskit==0.36.0) (59.6.0)\n",
      "Requirement already satisfied: ply>=3.10 in /home/davidb/research/code-unmanaged/quantum-computing/python3-for-qiskit36/lib/python3.10/site-packages (from qiskit-terra==0.20.0->qiskit==0.36.0) (3.11)\n",
      "Requirement already satisfied: psutil>=5 in /home/davidb/research/code-unmanaged/quantum-computing/python3-for-qiskit36/lib/python3.10/site-packages (from qiskit-terra==0.20.0->qiskit==0.36.0) (6.1.1)\n",
      "Requirement already satisfied: sympy>=1.3 in /home/davidb/research/code-unmanaged/quantum-computing/python3-for-qiskit36/lib/python3.10/site-packages (from qiskit-terra==0.20.0->qiskit==0.36.0) (1.13.3)\n",
      "Requirement already satisfied: dill>=0.3 in /home/davidb/research/code-unmanaged/quantum-computing/python3-for-qiskit36/lib/python3.10/site-packages (from qiskit-terra==0.20.0->qiskit==0.36.0) (0.3.9)\n",
      "Requirement already satisfied: stevedore>=3.0.0 in /home/davidb/research/code-unmanaged/quantum-computing/python3-for-qiskit36/lib/python3.10/site-packages (from qiskit-terra==0.20.0->qiskit==0.36.0) (5.4.0)\n",
      "Requirement already satisfied: python-constraint>=1.4 in /home/davidb/research/code-unmanaged/quantum-computing/python3-for-qiskit36/lib/python3.10/site-packages (from qiskit-terra==0.20.0->qiskit==0.36.0) (1.4.0)\n",
      "Requirement already satisfied: tweedledum<2.0,>=1.1 in /home/davidb/research/code-unmanaged/quantum-computing/python3-for-qiskit36/lib/python3.10/site-packages (from qiskit-terra==0.20.0->qiskit==0.36.0) (1.1.1)\n",
      "Requirement already satisfied: symengine>=0.9 in /home/davidb/research/code-unmanaged/quantum-computing/python3-for-qiskit36/lib/python3.10/site-packages (from qiskit-terra==0.20.0->qiskit==0.36.0) (0.13.0)\n",
      "Requirement already satisfied: pytz>=2020.1 in /home/davidb/research/code-unmanaged/quantum-computing/python3-for-qiskit36/lib/python3.10/site-packages (from pandas) (2025.1)\n",
      "Requirement already satisfied: tzdata>=2022.7 in /home/davidb/research/code-unmanaged/quantum-computing/python3-for-qiskit36/lib/python3.10/site-packages (from pandas) (2025.1)\n",
      "Requirement already satisfied: six>=1.5 in /home/davidb/research/code-unmanaged/quantum-computing/python3-for-qiskit36/lib/python3.10/site-packages (from python-dateutil>=2.8.0->qiskit-ibmq-provider==0.19.0->qiskit==0.36.0) (1.17.0)\n",
      "Requirement already satisfied: idna<4,>=2.5 in /home/davidb/research/code-unmanaged/quantum-computing/python3-for-qiskit36/lib/python3.10/site-packages (from requests>=2.19->qiskit-ibmq-provider==0.19.0->qiskit==0.36.0) (3.10)\n",
      "Requirement already satisfied: charset-normalizer<4,>=2 in /home/davidb/research/code-unmanaged/quantum-computing/python3-for-qiskit36/lib/python3.10/site-packages (from requests>=2.19->qiskit-ibmq-provider==0.19.0->qiskit==0.36.0) (3.4.1)\n",
      "Requirement already satisfied: certifi>=2017.4.17 in /home/davidb/research/code-unmanaged/quantum-computing/python3-for-qiskit36/lib/python3.10/site-packages (from requests>=2.19->qiskit-ibmq-provider==0.19.0->qiskit==0.36.0) (2025.1.31)\n",
      "Requirement already satisfied: pyspnego>=0.4.0 in /home/davidb/research/code-unmanaged/quantum-computing/python3-for-qiskit36/lib/python3.10/site-packages (from requests-ntlm>=1.1.0->qiskit-ibmq-provider==0.19.0->qiskit==0.36.0) (0.11.2)\n",
      "Requirement already satisfied: cryptography>=1.3 in /home/davidb/research/code-unmanaged/quantum-computing/python3-for-qiskit36/lib/python3.10/site-packages (from requests-ntlm>=1.1.0->qiskit-ibmq-provider==0.19.0->qiskit==0.36.0) (44.0.0)\n",
      "Requirement already satisfied: rustworkx==0.16.0 in /home/davidb/research/code-unmanaged/quantum-computing/python3-for-qiskit36/lib/python3.10/site-packages (from retworkx>=0.8.0->qiskit-ignis==0.7.0->qiskit==0.36.0) (0.16.0)\n",
      "Requirement already satisfied: pbr>=2.0.0 in /home/davidb/research/code-unmanaged/quantum-computing/python3-for-qiskit36/lib/python3.10/site-packages (from stevedore>=3.0.0->qiskit-terra==0.20.0->qiskit==0.36.0) (6.1.1)\n",
      "Requirement already satisfied: mpmath<1.4,>=1.1.0 in /home/davidb/research/code-unmanaged/quantum-computing/python3-for-qiskit36/lib/python3.10/site-packages (from sympy>=1.3->qiskit-terra==0.20.0->qiskit==0.36.0) (1.3.0)\n",
      "Requirement already satisfied: cffi>=1.12 in /home/davidb/research/code-unmanaged/quantum-computing/python3-for-qiskit36/lib/python3.10/site-packages (from cryptography>=1.3->requests-ntlm>=1.1.0->qiskit-ibmq-provider==0.19.0->qiskit==0.36.0) (1.17.1)\n",
      "Requirement already satisfied: pycparser in /home/davidb/research/code-unmanaged/quantum-computing/python3-for-qiskit36/lib/python3.10/site-packages (from cffi>=1.12->cryptography>=1.3->requests-ntlm>=1.1.0->qiskit-ibmq-provider==0.19.0->qiskit==0.36.0) (2.22)\n"
     ]
    }
   ],
   "source": [
    "!pip install pandas wheel qiskit==0.36.0"
   ]
  },
  {
   "cell_type": "markdown",
   "metadata": {
    "id": "o80Lg88EvqBj"
   },
   "source": [
    "# General Tech Versions/Info\n",
    "\n",
    "From Sherry (when last run 2021)\n",
    "- **Python:** 3.7.10\n",
    "- **Qiskit**: {'qiskit': '0.24.0',\n",
    " 'qiskit-aer': '0.7.6',\n",
    " 'qiskit-aqua': '0.8.2',\n",
    " 'qiskit-ibmq-provider': '0.12.1',\n",
    " 'qiskit-ignis': '0.5.2',\n",
    " 'qiskit-terra': '0.16.4'}\n",
    "- Run on Google Colab\n",
    "- Requires 20 qubits + 6 bits"
   ]
  },
  {
   "cell_type": "code",
   "execution_count": 6,
   "metadata": {},
   "outputs": [
    {
     "name": "stdout",
     "output_type": "stream",
     "text": [
      "qiskit                    0.36.0\n",
      "qiskit-aer                0.10.4\n",
      "qiskit-ibmq-provider      0.19.0\n",
      "qiskit-ignis              0.7.0\n",
      "qiskit-terra              0.20.0\n"
     ]
    }
   ],
   "source": [
    "!pip list | grep qiskit"
   ]
  },
  {
   "cell_type": "code",
   "execution_count": 7,
   "metadata": {
    "id": "nYjHE2gxvbWg"
   },
   "outputs": [
    {
     "name": "stderr",
     "output_type": "stream",
     "text": [
      "/tmp/ipykernel_6076/3089434569.py:11: DeprecationWarning: The qiskit.ignis package is deprecated and has been supersceded by the qiskit-experiments project. Refer to the migration guide: https://github.com/Qiskit/qiskit-ignis#migration-guide on how to migrate to the new project.\n",
      "  from qiskit.ignis.mitigation.measurement import complete_meas_cal, tensored_meas_cal, CompleteMeasFitter,TensoredMeasFitter\n"
     ]
    }
   ],
   "source": [
    "from qiskit import (\n",
    "    IBMQ,\n",
    "    QuantumCircuit,\n",
    "    execute,\n",
    "    Aer,\n",
    "    QuantumRegister, \n",
    "    ClassicalRegister,\n",
    "    transpile,\n",
    ")\n",
    "\n",
    "from qiskit.ignis.mitigation.measurement import complete_meas_cal, tensored_meas_cal, CompleteMeasFitter,TensoredMeasFitter\n",
    "from qiskit.test.mock import FakeSydney, FakeMontreal\n",
    "import numpy as np\n",
    "import math\n",
    "import random\n",
    "import time\n",
    "import pandas as pd"
   ]
  },
  {
   "cell_type": "code",
   "execution_count": 8,
   "metadata": {
    "id": "26A78xWbqaso"
   },
   "outputs": [],
   "source": [
    "# CNOT gates for applying the Steane Code\n",
    "CNOT_GATES = [[1,0], [1,4], [1,5], [2,0], [2,4], [2,6], [3,4], [3,5],[3,6],[7, 12],[7, 13],[8,7] ,[8, 11],[8, 12], [9,7],[9, 11],[9, 13],[10, 11],[10, 12],[10, 13]]\n",
    "REV_CNOT_GATES = [[10, 13],[10, 12],[10, 11],[9, 13],[9, 11],[9,7],[8, 12],[8, 11],[8,7],[7, 13],[7, 12],[3,6],[3,5],[3,4],[2,6],[2,4],[2,0],[1,5],[1,4],[1,0]]"
   ]
  },
  {
   "cell_type": "markdown",
   "metadata": {
    "id": "Cd2shkkbCNTf"
   },
   "source": [
    "#User Defined Values"
   ]
  },
  {
   "cell_type": "markdown",
   "metadata": {
    "id": "7vg20lbJA_DR"
   },
   "source": [
    "Please edit these values before running on quantum computer:"
   ]
  },
  {
   "cell_type": "code",
   "execution_count": 9,
   "metadata": {
    "id": "GoKY_e3OA9CV"
   },
   "outputs": [],
   "source": [
    "# COMPUTATION CONFIGURATIONS\n",
    "NUM_SHOTS = 1\n",
    "NUM_DIFF_PROGRAMS = 1\n",
    "NUM_ITERATIONS = 1\n",
    "NUM_RANDOM_ITERATIONS = 1\n",
    "\n",
    "# SPECIFY NUMBER OF RANDOM SEEDS FOR TRANSPILING QUANTUM CIRCUITS\n",
    "NUM_SEEDS = 150\n",
    "\n",
    "# SET PHYSICAL TO VIRTUAL QUBIT MAPPING OF QUANTUM MACHINE\n",
    "unpermuted_layout = [8,11,13,19,14,20,16,1,2,7,12,6,4,10]\n",
    "syndrome_layout = [5,9,18,0,3,15]"
   ]
  },
  {
   "cell_type": "code",
   "execution_count": 10,
   "metadata": {
    "colab": {
     "base_uri": "https://localhost:8080/"
    },
    "id": "UnVcENKdOX1B",
    "outputId": "249a11d9-d9ca-4599-d71b-d5ec32f7f579"
   },
   "outputs": [],
   "source": [
    "# SET LOCATION FOR SAVING DATA\n",
    "#from google.colab import drive\n",
    "#drive.mount('/content/drive')\n",
    "\n",
    "# SET FILENAMES FOR DATA SAVING \n",
    "filename_0 = \"general_info_20Q.txt\"\n",
    "filename_error = \"Resultserror_results_20Q.csv\"\n",
    "filename_mit = \"mit_results_20Q.csv\"\n",
    "filename_decoded = \"decoded_results_20Q.csv\"\n",
    "\n",
    "# SET QUANTUM COMPUTER BACKEND OF YOUR CHOICE\n",
    "fake_mtrl = FakeMontreal()\n",
    "# BACKEND = AerSimulator.from_backend(fake_mtrl)\n",
    "BACKEND = Aer.get_backend('qasm_simulator')"
   ]
  },
  {
   "cell_type": "markdown",
   "metadata": {
    "id": "s2uoexbFsKGM"
   },
   "source": [
    "# Server Class (Main Code)"
   ]
  },
  {
   "cell_type": "code",
   "execution_count": 11,
   "metadata": {
    "id": "X_ZY2NMTwAec"
   },
   "outputs": [],
   "source": [
    "class Server():\n",
    "  def __init__(self):\n",
    "    print('Server initialized')\n",
    "\n",
    "  def generate_point(self, size=14):\n",
    "    \"\"\"\n",
    "    Generate a random point as password\n",
    "    \n",
    "    Parameters:\n",
    "    size (int): number of qubits in circuit to be encrypted\n",
    "    \n",
    "    Returns:\n",
    "    point (str): the combination of key1 and key2 in binary form\n",
    "    key1 ([int]): permutation key in integer form\n",
    "    key2 ([[int], [int]]): one-time pad component of the password, comprised of the x key and z key respectively\n",
    "    \"\"\"    \n",
    "    # get permutation key\n",
    "    bin_key1, key1 = self.generate_permutation_key()\n",
    "    # get OTP key\n",
    "    x_key = np.random.randint(2, size=size)\n",
    "    z_key = np.random.randint(2, size=size)\n",
    "    key2 = [x_key.tolist(), z_key.tolist()]\n",
    "    # combine keys to get point\n",
    "    a = ''.join(bin_key1)\n",
    "    b = ''.join(map(str, x_key.tolist()))\n",
    "    c = ''.join(map(str,z_key.tolist()))\n",
    "    point = a+b+c\n",
    "    return point, key1, key2\n",
    "  \n",
    "  def generate_permutation_key(self, size=14):\n",
    "    \"\"\"\n",
    "    Generate a random permutation of list(range(size))\n",
    "    \n",
    "    Parameters:\n",
    "    size (int): size of list \n",
    "    \n",
    "    Returns:\n",
    "    key ([str]): the permuted list in binary form\n",
    "    dec_key ([int]): the permuted list in decimal form\n",
    "    \"\"\"   \n",
    "    key_dec = list(range(size))\n",
    "    rng = np.random.default_rng()\n",
    "    rng.shuffle(key_dec)\n",
    "    f = '0' + str(math.ceil(math.log2(size))) + 'b'\n",
    "    # get the permutation in binary form\n",
    "    key = [format(x, f) for x in key_dec]\n",
    "    return key, key_dec\n",
    "\n",
    "  def sample_challenge_point(self, point, size=14): \n",
    "    \"\"\"\n",
    "    Sample a random point q from the distribution in which with approx.\n",
    "    probability 0.5, point (the parameter) is sampled, \n",
    "    and with approx. probability 0.5, a random point excluding point (the parameter) is uniformly chosen\n",
    "    \n",
    "    Parameters:\n",
    "    point (str): the point that will be sampled with probability 0.5 in the distribution\n",
    "    size (int): number of qubits that point encrypts for\n",
    "    \n",
    "    Returns:\n",
    "    sample (str): challenge point taken from distribution\n",
    "    \"\"\"   \n",
    "    # generate a random valid point that has a permutation and one-time pad keys\n",
    "    key1, key_dec = self.generate_permutation_key()\n",
    "    key1 = \"\".join(key1)\n",
    "\n",
    "    key2_dec = random.randint(0, (2**(size*2))-1)\n",
    "    key2_bin = format(key2_dec,'0'+str(size*2)+'b')\n",
    "\n",
    "    random_point = str(key1) + str(key2_bin)\n",
    "    # keep sampling for a random point uniformly until the random_point is not equivalent to point\n",
    "    while random_point == point:\n",
    "      key2_dec = random.randint(0, (2**(size*2))-1)\n",
    "      key2_bin = format(key2_dec,'0'+str(size*2)+'b')\n",
    "      random_point = str(key1) + str(key2_bin)\n",
    "    # sample from challenge distribution in which with approx. 50%, random_point is selected, and 50%, point is selected\n",
    "    sample = np.random.choice([random_point, point])\n",
    "    return sample\n",
    "\n",
    "  def protect(self, permuted_cnots, hadamards, x_key, z_key, init_data = [0,0,0,0,0,0,0,'+',0,0,0,0,0,0], size=14):\n",
    "    \"\"\"\n",
    "    Encodes a program \n",
    "    \n",
    "    Parameters:\n",
    "    permuted_cnots ([[int,int]]): all permuted CNOT gates to be applied\n",
    "    hadamards ([int]): all hadamard gates to be applied\n",
    "    x_key ([int]): all pauli-X gates to be applied\n",
    "    z_key ([int]): all pauli-Z gates to be applied\n",
    "    init_data (list): initialized qubit states\n",
    "    size (int): size of the quantum circuit\n",
    "\n",
    "    Returns:\n",
    "    circuit (qiskit's QuantumCircuit): encoded program\n",
    "    \"\"\"   \n",
    "    # initialize quantum circuit\n",
    "    qr = QuantumRegister(size)\n",
    "    circuit = QuantumCircuit(qr)\n",
    "    \n",
    "    # initialize the states of the quantum circuit\n",
    "    for i in range(size):\n",
    "      if init_data[i] == '+':\n",
    "        circuit.h(i)\n",
    "      elif init_data[i] == 1:\n",
    "        circuit.x(i)\n",
    "      elif init_data[i] == '-':\n",
    "        circuit.x(i)\n",
    "        circuit.h(i)\n",
    "    circuit.barrier()\n",
    "    # apply delegated one-time pad\n",
    "    for i in range(size):\n",
    "      if x_key[i] == 1 and init_data[i] == 0:\n",
    "        circuit.x(i)\n",
    "      elif z_key[i] == 1 and init_data[i] == '+':\n",
    "        circuit.z(i)\n",
    "    circuit.barrier()\n",
    "    # apply hadamard gates\n",
    "    for i in hadamards:\n",
    "      circuit.h(i)  \n",
    "    circuit.barrier()\n",
    "    # apply cnot gates\n",
    "    for cnots in permuted_cnots:\n",
    "      circuit.cx(cnots[0], cnots[1])\n",
    "    circuit.barrier()\n",
    "    return circuit\n",
    "\n",
    "  def get_syndrome_circuit(self, challenge_input, program, size=14, syndrome_cnots =[[0, 14], [2, 14], [4, 14], [6, 14], [1, 15], [2, 15], [5, 15], [6, 15], [3, 16], [4, 16], [5, 16], [6, 16], [7, 17], [9, 17], [11, 17], [13, 17], [8, 18], [9, 18], [12, 18], [13, 18], [10, 19], [11, 19], [12, 19], [13, 19]]):\n",
    "    \"\"\"\n",
    "    Creates a circuit that detects for single bit and phase flip errors \n",
    "    \n",
    "    Parameters:\n",
    "    challenge_input (str): point used to decrypt program\n",
    "    program (qiskit's QuantumCircuit): program for finding error syndromes\n",
    "    size (int): the number of qubits in the program\n",
    "    syndrome_cnots ([int,int]): CNOT gates for obtaining error syndromes\n",
    "\n",
    "    Returns:\n",
    "    syndrome_circuit (qiskit's QuantumCircuit): program for calculating error syndromes\n",
    "    \"\"\"  \n",
    "    key1, key2 = self.point_to_keys(challenge_input) \n",
    "    # initialize quantum circuit\n",
    "    qr = QuantumRegister(size+int(size/7*3))\n",
    "    cr = ClassicalRegister(size+int(size/7*3))\n",
    "    syndrome_circuit = QuantumCircuit(qr, cr)\n",
    "    # add program to new quantum circuit\n",
    "    syndrome_circuit.append(program, range(size))\n",
    "    # apply gates to decrypt the circuit\n",
    "    for i in range(size,size+int(size/7*3)):\n",
    "      syndrome_circuit.h(i)\n",
    "\n",
    "    for gate in syndrome_cnots:\n",
    "      syndrome_circuit.cx(gate[1], key1.index(gate[0]))\n",
    "\n",
    "    for i in range(size,size+int(size/7*3)):\n",
    "      syndrome_circuit.h(i)\n",
    "\n",
    "    syndrome_circuit.barrier()\n",
    "    syndrome_circuit.measure(qr,cr)\n",
    "    return syndrome_circuit\n",
    "\n",
    "\n",
    "  def get_syndrome_circuit_mit_measures(self, mit_values, challenge_input, program, size=14, syndrome_cnots =[[0, 14], [2, 14], [4, 14], [6, 14], [1, 15], [2, 15], [5, 15], [6, 15], [3, 16], [4, 16], [5, 16], [6, 16], [7, 17], [9, 17], [11, 17], [13, 17], [8, 18], [9, 18], [12, 18], [13, 18], [10, 19], [11, 19], [12, 19], [13, 19]]):\n",
    "    \"\"\"\n",
    "    Creates a circuit that detects bit and phase flip errors but measures only a subset of qubits; \n",
    "    Used for tensored error mitigation\n",
    "    \n",
    "    Parameters:\n",
    "    mit_values ([int]): subset of qubits to be measured\n",
    "    challenge_input (str): point used to decrypt program\n",
    "    program (qiskit's QuantumCircuit): program for finding error syndromes\n",
    "    size (int): the number of qubits in the program\n",
    "    syndrome_cnots ([int,int]): CNOT gates for obtaining error syndromes\n",
    "\n",
    "    Returns:\n",
    "    syndrome_program (qiskit's QuantumCircuit): program for calculating error syndromes with partial qubit measurement\n",
    "    \"\"\"    \n",
    "    key1, key2 = self.point_to_keys(challenge_input) \n",
    "\n",
    "    qr = QuantumRegister(size+int(size/7*3))\n",
    "    cr = ClassicalRegister(len(mit_values))\n",
    "    syndrome_program = QuantumCircuit(qr, cr)\n",
    "    syndrome_program.append(program, range(size))\n",
    "\n",
    "    for i in range(size,size+int(size/7*3)):\n",
    "      syndrome_program.h(i)\n",
    "\n",
    "    for gate in syndrome_cnots:\n",
    "      syndrome_program.cx(gate[1], key1.index(gate[0]))\n",
    "\n",
    "    for i in range(size,size+int(size/7*3)):\n",
    "      syndrome_program.h(i)\n",
    "\n",
    "    syndrome_program.barrier()\n",
    "    for i in range(len(mit_values)):\n",
    "      syndrome_program.measure(qr[mit_values[i]], cr[i])\n",
    "    return syndrome_program\n",
    "\n",
    "  def point_to_keys(self, point, size=14):\n",
    "    \"\"\"\n",
    "    Derives the permutation and one-time pad keys from a point\n",
    "    \n",
    "    Parameters:\n",
    "    point(str): point for deriving keys from\n",
    "    size (int): number of qubits in program\n",
    "\n",
    "    Returns:\n",
    "    circuit (circuit): protected program\n",
    "    \"\"\"  \n",
    "    inc = math.ceil(math.log2(size))\n",
    "    key1 = [int(point[i:i+inc],2) for i in range(0, len(point[:-size*2]), inc)] \n",
    "    key2_x = [int(value) for value in point[-size*2:-size]]\n",
    "    key2_z = [int(value) for value in point[-size:]]\n",
    "    return key1, [key2_x, key2_z]\n",
    "\n",
    "  def permute_classical(self, key1, orig_cnots, hadamards = [1,2,3,8,9,10], size=14):\n",
    "    \"\"\"\n",
    "    Provides the locations of CNOT and Hadamard gates based on a permutated list\n",
    "    \n",
    "    Parameters:\n",
    "    key1 ([int]): permutated list\n",
    "    orig_cnots ([[int,int]]): the location of unpermuted CNOT gates\n",
    "    hadamards ([int]): the location of unpermuted Hadamard gates\n",
    "    size (int): number of qubits in program\n",
    "\n",
    "    Returns:\n",
    "    new_cnot_gates ([[int,int]]): permuted CNOT gates\n",
    "    new_hadamard_gates ([int]): permuted Hadamard gates\n",
    "    \"\"\"  \n",
    "    new_hadamard_gates = [0]*len(hadamards)\n",
    "    new_cnot_gates = [0]*len(orig_cnots)\n",
    "\n",
    "    for i in range(len(orig_cnots)):\n",
    "      new_cnot_gates[i] = [key1.index(orig_cnots[i][0]), key1.index(orig_cnots[i][1])]\n",
    "    for i in range(len(hadamards)):\n",
    "      new_hadamard_gates[i] = key1.index(hadamards[i])\n",
    "\n",
    "    return new_cnot_gates, new_hadamard_gates\n",
    "\n",
    "  def get_OTP_classical_key(self, key, permutation_key, cnots, hadamards):\n",
    "    \"\"\"\n",
    "    Gets the delegated one-time pad key, where the one-time pad key is delegated to the beginning of the program\n",
    "    \n",
    "    Parameters:\n",
    "    key ([[int],[int]]): the one-time pad key to be delegated \n",
    "    permutation_key ([int]): permutation\n",
    "    cnots ([[int,int]]): all CNOT gates\n",
    "    hadamards ([int]): all Hadamard gates \n",
    "\n",
    "    Returns:\n",
    "    new_x_key ([int]): delegated Pauli-X gates of one-time pad\n",
    "    new_z_key ([int]): delegated Pauli-Z gates of one-time pad\n",
    "    \"\"\"  \n",
    "    x_key = key[0]\n",
    "    z_key = key[1]\n",
    "\n",
    "    for cnot in cnots:\n",
    "      a = x_key[cnot[0]]\n",
    "      b = z_key[cnot[0]]\n",
    "      c = x_key[cnot[1]]\n",
    "      d = z_key[cnot[1]]\n",
    "      x_key[cnot[0]] = a\n",
    "      z_key[cnot[0]] = b+d\n",
    "      x_key[cnot[1]] = a+c\n",
    "      z_key[cnot[1]] = d\n",
    "\n",
    "    for i in hadamards:\n",
    "      x_key[i], z_key[i] = z_key[i], x_key[i]\n",
    "\n",
    "    new_x_key = [i%2 for i in x_key]\n",
    "    new_z_key = [i%2 for i in z_key]\n",
    "\n",
    "    return new_x_key, new_z_key\n",
    "\n",
    "\n",
    "  def undo_circuit(self, point, program, rev_cnots=[[3,6],[3,5],[3,4],[2,6],[2,4],[2,0],[1,5],[1,4],[1,0],[0,6],[0,5],[10, 13],[10, 12],[10, 11],[9, 13],[9, 11],[9, 7],[8, 12],[8, 11],[8, 7],[7, 13],[7, 12]], size=14):\n",
    "    \"\"\"\n",
    "    Applies all the operations in reverse order as to undo the original program\n",
    "    \n",
    "    Parameters:\n",
    "    point (str): the point for encoding the program\n",
    "    program (qiskit's QuantumCircuit): circuit to be undoed\n",
    "    rev_cnots ([[int,int]]): the reverse sequence of CNOT gates that were applied in the program\n",
    "    size (int): number of qubits in program\n",
    "\n",
    "    Returns:\n",
    "    undo_circuit (qiskit's QuantumCircuit): the program that has been undoed\n",
    "    \"\"\"  \n",
    "    key1, key2 = self.point_to_keys(point) \n",
    "    permuted_cnots, hg = self.permute_classical(key1, rev_cnots)\n",
    "    qr = QuantumRegister(size)\n",
    "    cr_trap = ClassicalRegister(size)\n",
    "    undo_circuit = QuantumCircuit(qr, cr_trap)\n",
    "    undo_circuit.append(program, range(size))\n",
    "\n",
    "    for cnot in permuted_cnots:\n",
    "      undo_circuit.cx(cnot[0], cnot[1])\n",
    "    \n",
    "    undo_circuit.barrier()\n",
    "    for gate in hg:\n",
    "      undo_circuit.h(gate)\n",
    "    undo_circuit.barrier()\n",
    "\n",
    "    undo_circuit.measure(qr, cr_trap)\n",
    "    return undo_circuit\n",
    "    \n",
    "  def reverse_cnots(self, cnots):\n",
    "    \"\"\"\n",
    "    Reverse the order of CNOTs\n",
    "    \n",
    "    Parameters:\n",
    "    cnots ([[int,int]]): original order of cnots\n",
    "\n",
    "    Returns:\n",
    "    rev_cnots ([[int,int]]): reversed order of cnots\n",
    "    \"\"\"  \n",
    "    rev_cnots = []\n",
    "    for i in range(len(cnots)):\n",
    "      rev_cnots.append(cnots[len(cnots)-i-1])\n",
    "    return rev_cnots\n",
    "\n",
    "  def get_random_mit_pattern_single(self, size=20, num_qubits = 10):\n",
    "    \"\"\"\n",
    "    Selected single qubit pattern for tensored error mitigation\n",
    "    \n",
    "    Parameters:\n",
    "    size(int): total number of qubits in the program\n",
    "    num_qubits(int): number of qubits to be selected\n",
    "\n",
    "    Returns:\n",
    "    mit_pattern (list): pattern for tensored error mitigation, comprised of single qubits\n",
    "    mit_values ([int]): a random subset of all qubits in mit_pattern \n",
    "    \"\"\"  \n",
    "    mit_vals = random.sample(list(range(size)),num_qubits)\n",
    "    mit_pattern = [[x] for x in mit_vals]\n",
    "    return mit_pattern, mit_vals\n",
    "    \n",
    "  def get_permuted_cnots(self, permutation_key, cnots):\n",
    "    \"\"\"\n",
    "    Gets the permuted set of CNOTs to be applied for the syndrome programs\n",
    "    \n",
    "    Parameters:\n",
    "    permutation_key([int]): permutation \n",
    "    cnots([[int,int]]): CNOT gates to be applied\n",
    "\n",
    "    Returns:\n",
    "    new_permuted_cnots ([[int,int]]): permutation of CNOT gates\n",
    "    \"\"\"    \n",
    "    num_aux_qubits = int((len(permutation_key)/7)*3)\n",
    "    # get the list of auxiliary qubits for obtaining error syndromes\n",
    "    aux_qubits = list(range(len(permutation_key),len(permutation_key)+num_aux_qubits))\n",
    "    key = permutation_key + aux_qubits\n",
    "    new_permuted_cnots = [0]*len(cnots)\n",
    "    for i in range(len(cnots)):\n",
    "      new_permuted_cnots[i] = [key.index(cnots[i][0]), key.index(cnots[i][1])]\n",
    "    return new_permuted_cnots\n",
    "\n",
    "  def get_random_mit_pattern_all(self, permutation_key, steane_cnots = [[1,0], [1,4], [1,5], [2,0], [2,4], [2,6], [3,4], [3,5],[3,6],[7, 12],[7, 13],[8,7] ,[8, 11],[8, 12], [9,7],[9, 11],[9, 13],[10, 11],[10, 12],[10, 13]], syndrome_cnots = [[14, 0], [14, 2], [14, 4], [14, 6], [15, 1], [15, 2], [15, 5], [15, 6], [16, 3], [16, 4], [16, 5], [16, 6], [17, 7], [17, 9], [17, 11], [17, 13], [18, 8], [18, 9], [18, 12], [18, 13], [19, 10], [19, 11], [19, 12], [19, 13]], size=20, num_qubits = 10):\n",
    "    \"\"\"\n",
    "    Selected single and double qubit patterns for tensored error mitigation\n",
    "    \n",
    "    Parameters:\n",
    "    permutation_key([int]): permutation \n",
    "    steane_cnots ([[int,int]]): all cnot gates for the Steane encoding\n",
    "    syndrome_cnots ([[int,int]]): all cnot gates for calculating the error syndromes\n",
    "    size(int): total number of qubits in the program\n",
    "    num_qubits(int): number of qubits to be selected\n",
    "\n",
    "    Returns:\n",
    "    mit_pattern (list): pattern for tensored error mitigation, comprised of single and qubit pairs\n",
    "    mit_values ([int]): a random subset of all qubits in mit_pattern \n",
    "    \"\"\"   \n",
    "    permuted_steane_cnots = self.get_permuted_cnots(permutation_key, steane_cnots)\n",
    "    permuted_syndrome_cnots = self.get_permuted_cnots(permutation_key, syndrome_cnots)\n",
    "    cnots = permuted_steane_cnots  + permuted_syndrome_cnots\n",
    "    # number of qubit pairs to include in pattern\n",
    "    num_cnots = random.choice(range(10//2))\n",
    "    count = 0\n",
    "    cnot_pairs = []\n",
    "    cnot_values = []\n",
    "    while count != num_cnots:\n",
    "      val = random.choice(range(len(cnots)))\n",
    "      if cnots[val] not in cnot_pairs:\n",
    "        if cnots[val][0] not in cnot_values and cnots[val][1] not in cnot_values:\n",
    "          cnot_pairs.append(cnots[val])\n",
    "          cnot_values.append(cnots[val][0]) \n",
    "          cnot_values.append(cnots[val][1])\n",
    "          count = count +1 \n",
    "    \n",
    "    singles = random.sample(set(list(range(20)))-set(cnot_values),num_qubits-(num_cnots*2))\n",
    "    s = [[x] for x in singles[:]]\n",
    "    mit_values = cnot_values + singles\n",
    "    mit_patterns = cnot_pairs + s\n",
    "    return mit_patterns,mit_values\n",
    "\n",
    "  def prepare_meas_filter(self, mit_pattern, backend, num_shots, size=20):\n",
    "    \"\"\"\n",
    "    Prepare a tensored error mitigation measurement filter based on specified mit_pattern\n",
    "    \n",
    "    Parameters:\n",
    "    mit_pattern([int]): pattern used for tensored error mitigation\n",
    "    backend(qiskit's IBMQBackend): specified backend for preparing measurement filter\n",
    "    num_shots(int): number of shots for backend\n",
    "    size(int): number of qubits in program\n",
    "\n",
    "    Returns:\n",
    "    meas_filter (qiskit's TensoredMeasFitter.filter): prepared measurement filter\n",
    "    \"\"\"  \n",
    "    qr = QuantumRegister(size) \n",
    "    qulayout = range(size)\n",
    "    meas_calibs, state_labels = tensored_meas_cal(mit_pattern=mit_pattern, qr=qr, circlabel='mcal')\n",
    "    for circ in meas_calibs:\n",
    "      print(circ.name)\n",
    "    job = execute(meas_calibs, backend=backend, shots=num_shots)\n",
    "    cal_results = job.result()\n",
    "    meas_fitter = TensoredMeasFitter(cal_results, mit_pattern=mit_pattern)\n",
    "    meas_filter = meas_fitter.filter\n",
    "    return meas_filter"
   ]
  },
  {
   "cell_type": "markdown",
   "metadata": {
    "id": "4CSF36TjCvw5"
   },
   "source": [
    "#Tests"
   ]
  },
  {
   "cell_type": "code",
   "execution_count": 12,
   "metadata": {
    "colab": {
     "base_uri": "https://localhost:8080/"
    },
    "id": "g0TeOMPP0iRX",
    "outputId": "48b22b09-3680-4208-a808-a47842a984d6"
   },
   "outputs": [
    {
     "name": "stdout",
     "output_type": "stream",
     "text": [
      "Server initialized\n"
     ]
    }
   ],
   "source": [
    "# initiate the server\n",
    "server = Server()\n",
    "start = time.time()\n",
    "fields = ['is_point', 'point_value', 'challenge_point_value', 'key_1', 'key_2', 'challenge_key_1', 'challenge_key_2', 'mit_pattern_single','mit_pattern_all']"
   ]
  },
  {
   "cell_type": "code",
   "execution_count": 13,
   "metadata": {
    "id": "q05oVClAsiDN"
   },
   "outputs": [],
   "source": [
    "results_info = pd.DataFrame(columns=fields)\n",
    "results_info_decoded = pd.DataFrame(columns=fields)\n",
    "sp_list= []\n",
    "sp_mit_single_list =[]\n",
    "sp_mit_all_list = []\n",
    "dp_list = []\n",
    "meas_filter_singles = []\n",
    "meas_filter_alls = []"
   ]
  },
  {
   "cell_type": "code",
   "execution_count": 14,
   "metadata": {
    "id": "01SQGTSAQKEK"
   },
   "outputs": [],
   "source": [
    "def get_programs_for_test(server, challenge_input, program, permutation_key,sp_list, sp_mit_single_list, sp_mit_all_list,dp_list, meas_filter_singles, meas_filter_alls, rev_cnots=REV_CNOT_GATES, backend=BACKEND, num_shots=NUM_SHOTS):\n",
    "  \"\"\"\n",
    "  Prepares circuits for execution\n",
    "\n",
    "  Parameters:\n",
    "  server (Server): Server instance\n",
    "  challenge_input (str): challenge point for testing programs\n",
    "  program (qiskit's QuantumCicuit): the encoded program for applying tests\n",
    "  permutation_key ([int]): permutation ordering\n",
    "  sp_list ([qiskit's QuantumCircuits]): list of prepared syndrome quantum circuits \n",
    "  sp_mit_single_list ([qiskit's QuantumCircuits]): list of prepared syndrome quantum circuits with partial measurement and single qubit patterns\n",
    "  sp_mit_all_list ([qiskit's QuantumCircuits]): list of prepared quantum circuits with syndromes with partial measurement and single and qubit pair patterns\n",
    "  dp_list ([qiskit's QuantumCircuits]): list of prepared undoed quantum circuits\n",
    "  meas_filter_singles ([qiskit's TensoredMeasFitter.filter]): list of tensored measurement filters for sp_mit_single_list circuits\n",
    "  meas_filter_alls ([qiskit's TensoredMeasFitter.filter]): list of tensored measurement filters for sp_mit_all_list circuits\n",
    "  rev_cnots ([[int,int]]): cnot gates to be applied for undoing the circuit\n",
    "  backend (qiskit's IBMQBackend): specified backend for preparing measurement filter\n",
    "  num_shots (int): number of shots for backend\n",
    "\n",
    "  Returns:\n",
    "  sp_list ([qiskit's QuantumCircuits]): list of prepared syndrome quantum circuits \n",
    "  sp_mit_single_list ([qiskit's QuantumCircuits]): list of prepared syndrome quantum circuits with partial measurement and single qubit patterns\n",
    "  sp_mit_all_list ([qiskit's QuantumCircuits]): list of prepared quantum circuits with syndromes with partial measurement and single and double qubit patterns\n",
    "  dp_list ([qiskit's QuantumCircuits]): list of prepared undoed quantum circuits\n",
    "  meas_filter_singles ([qiskit's TensoredMeasFitter.filter]): list of tensored measurement filters for sp_mit_single_list circuits\n",
    "  meas_filter_alls ([qiskit's TensoredMeasFitter.filter]): list of tensored measurement filters for sp_mit_all_list circuits\n",
    "  mit_pattern_s ([[int]]): subset of single qubits used in tensored error mitigation, based on the circuits sp_mit_single_list\n",
    "  mit_pattern_all (list): subset of single and double qubits used in tensored error mitigation, based on the circuits sp_mit_all_list\n",
    "  \"\"\"\n",
    "  syndrome_program = server.get_syndrome_circuit(challenge_input,program)\n",
    "  mit_pattern_s, mit_val_s = server.get_random_mit_pattern_single()\n",
    "  mit_pattern_all, mit_val_all = server.get_random_mit_pattern_all(permutation_key)\n",
    "  syndrome_program_mit_single = server.get_syndrome_circuit_mit_measures(mit_val_s, challenge_input, program)\n",
    "  syndrome_program_mit_all = server.get_syndrome_circuit_mit_measures(mit_val_all,challenge_input,program)\n",
    "  decoded_program = server.undo_circuit(challenge_input, program, rev_cnots=rev_cnots)\n",
    "  meas_filter_s = server.prepare_meas_filter(mit_pattern_s, backend, num_shots)\n",
    "  meas_filter_all = server.prepare_meas_filter(mit_pattern_all, backend, num_shots)\n",
    "  sp_list = sp_list + [syndrome_program]\n",
    "  sp_mit_single_list =sp_mit_single_list + [syndrome_program_mit_single]\n",
    "  sp_mit_all_list = sp_mit_all_list + [syndrome_program_mit_all]\n",
    "  dp_list = dp_list + [decoded_program]\n",
    "  meas_filter_singles = meas_filter_singles + [meas_filter_s]\n",
    "  meas_filter_alls = meas_filter_alls + [meas_filter_all]\n",
    "  return sp_list, sp_mit_single_list, sp_mit_all_list, dp_list, meas_filter_singles, meas_filter_alls, mit_pattern_s, mit_pattern_all\n",
    "\n",
    "def prepare_for_test(server, cnots = CNOT_GATES):\n",
    "  \"\"\" \n",
    "  Prepare inputs for test\n",
    "\n",
    "  Parameters:\n",
    "  server (Server): instance of Server for preparing inputs\n",
    "  cnots ([[int,int]]): cnot gates to be applied\n",
    "  \n",
    "  Returns:\n",
    "  p (str): point\n",
    "  k1 ([int]): permutation key\n",
    "  key2 ([[int],[int]]): one-time pad key\n",
    "  permuted_cnots([[int,int]]):  cnot gates post permutation\n",
    "  permuted_hadamards ([int]): hadamard gates post permutation\n",
    "  x_key ([int]): all delegated pauli-X gates to be applied for one-time pad (key2)\n",
    "  z_key ([int]):  all delegated pauli-Z gates to be applied for one-time pad (key2)\n",
    "  data (list): qubits' intial states\n",
    "  \"\"\"\n",
    "  p, k1, k2 = server.generate_point()\n",
    "  key2 = [k2[0][:], k2[1][:]]\n",
    "  permuted_cnots, permuted_hadamards = server.permute_classical(k1, cnots)\n",
    "  rev = server.reverse_cnots(permuted_cnots)\n",
    "  x_key, z_key = server.get_OTP_classical_key(k2,k1, rev,permuted_hadamards)\n",
    "  data = [0]*14\n",
    "  data[k1.index(7)] = '+'\n",
    "  return p, k1, key2, permuted_cnots, permuted_hadamards, x_key, z_key, data"
   ]
  },
  {
   "cell_type": "markdown",
   "metadata": {
    "id": "2w3FPX5yxz0w"
   },
   "source": [
    "\n",
    "\n",
    "\n",
    "> ### Test 1.1: Point = Challenge Input Correctness Check"
   ]
  },
  {
   "cell_type": "code",
   "execution_count": 15,
   "metadata": {
    "colab": {
     "base_uri": "https://localhost:8080/"
    },
    "id": "gp2Uw_mwxzdC",
    "outputId": "22817c1c-05d5-4cf6-9db1-49a24ee22d89"
   },
   "outputs": [
    {
     "name": "stdout",
     "output_type": "stream",
     "text": [
      "_____________PART A: Challenge Input == Point_____________\n",
      "mcalcal_0000000000\n",
      "mcalcal_1111111111\n"
     ]
    },
    {
     "name": "stderr",
     "output_type": "stream",
     "text": [
      "/tmp/ipykernel_6076/1824150934.py:387: DeprecationWarning: Sampling from a set deprecated\n",
      "since Python 3.9 and will be removed in a subsequent version.\n",
      "  singles = random.sample(set(list(range(20)))-set(cnot_values),num_qubits-(num_cnots*2))\n"
     ]
    },
    {
     "name": "stdout",
     "output_type": "stream",
     "text": [
      "mcalcal_0000000000\n",
      "mcalcal_0000000101\n",
      "mcalcal_1111111010\n",
      "mcalcal_1111111111\n"
     ]
    }
   ],
   "source": [
    "print(\"_____________PART A: Challenge Input == Point_____________\")\n",
    "for i in range(NUM_DIFF_PROGRAMS):\n",
    "  p, k1, key2, cnots, hadamards, x_key, z_key, data = prepare_for_test(server)\n",
    "  program = server.protect(cnots, hadamards, x_key, z_key, init_data=data)\n",
    "  # set challenge_input\n",
    "  challenge_input = p\n",
    "  challenge_key1, challenge_key2 = server.point_to_keys(challenge_input)  \n",
    "  for k in range(NUM_ITERATIONS): \n",
    "    sp_list, sp_mit_single_list, sp_mit_all_list, dp_list, meas_filter_singles, meas_filter_alls, mit_pattern_s, mit_pattern_all = get_programs_for_test(server, challenge_input, program, k1, sp_list, sp_mit_single_list, sp_mit_all_list, dp_list, meas_filter_singles, meas_filter_alls)\n",
    "    index = i*NUM_ITERATIONS+k\n",
    "    results_info.loc[index] = [str(p) == str(challenge_input), p, challenge_input, k1, key2, challenge_key1, challenge_key2, mit_pattern_s, mit_pattern_all]\n",
    "    results_info_decoded.loc[index] = [str(p) == str(challenge_input), p, challenge_input, k1, key2, challenge_key1, challenge_key2, \"-\", \"-\"]\n"
   ]
  },
  {
   "cell_type": "markdown",
   "metadata": {
    "id": "-0vVefFUyGWy"
   },
   "source": [
    "\n",
    "\n",
    "> ### Test 1.2: Point != Challenge Input, w/ 1 permutation error Correctness Check\n",
    "\n",
    "\n"
   ]
  },
  {
   "cell_type": "code",
   "execution_count": 16,
   "metadata": {
    "colab": {
     "base_uri": "https://localhost:8080/"
    },
    "id": "pQlfO3-hyF2h",
    "outputId": "46c9097d-9ccb-4020-8225-29dd929f1d1f"
   },
   "outputs": [
    {
     "name": "stdout",
     "output_type": "stream",
     "text": [
      "\n",
      "_____________PART B: Challenge Input != Point - one Permutation Error_____________\n",
      "mcalcal_0000000000\n",
      "mcalcal_1111111111\n"
     ]
    },
    {
     "name": "stderr",
     "output_type": "stream",
     "text": [
      "/tmp/ipykernel_6076/1824150934.py:387: DeprecationWarning: Sampling from a set deprecated\n",
      "since Python 3.9 and will be removed in a subsequent version.\n",
      "  singles = random.sample(set(list(range(20)))-set(cnot_values),num_qubits-(num_cnots*2))\n"
     ]
    },
    {
     "name": "stdout",
     "output_type": "stream",
     "text": [
      "mcalcal_0000000000\n",
      "mcalcal_0000010101\n",
      "mcalcal_1111101010\n",
      "mcalcal_1111111111\n"
     ]
    }
   ],
   "source": [
    "print(\"\\n_____________PART B: Challenge Input != Point - one Permutation Error_____________\")\n",
    "for j in range(NUM_DIFF_PROGRAMS):\n",
    "  p, k1, key2, cnots, hadamards, x_key, z_key, data = prepare_for_test(server)\n",
    "  program = server.protect(cnots, hadamards, x_key, z_key, init_data=data)\n",
    "  # prepare challenge input\n",
    "  i = np.random.choice(14,2,False)\n",
    "  edited_k1 = k1[:]\n",
    "  edited_k1[i[0]], edited_k1[i[1]] = k1[i[1]], k1[i[0]]\n",
    "  f = '0' + str(math.ceil(math.log2(14))) + 'b'\n",
    "  new_key1 = [format(x, f) for x in edited_k1]\n",
    "  challenge_input = str(\"\".join(new_key1)) + str(p[-28:])\n",
    "  challenge_key1, challenge_key2 = server.point_to_keys(challenge_input)\n",
    "\n",
    "  for k in range(NUM_ITERATIONS): \n",
    "    sp_list, sp_mit_single_list, sp_mit_all_list, dp_list, meas_filter_singles, meas_filter_alls, mit_pattern_s, mit_pattern_all = get_programs_for_test(server, challenge_input, program, k1, sp_list, sp_mit_single_list, sp_mit_all_list, dp_list, meas_filter_singles, meas_filter_alls)\n",
    "    index = j*NUM_ITERATIONS+k +(NUM_ITERATIONS*NUM_DIFF_PROGRAMS)\n",
    "    results_info_decoded.loc[index] = [str(p) == str(challenge_input), p, challenge_input, k1, key2, challenge_key1, challenge_key2, \"-\",\"-\"]\n",
    "    results_info.loc[index] = [str(p) == str(challenge_input), p, challenge_input, k1, key2, challenge_key1, challenge_key2, mit_pattern_s, mit_pattern_all]\n"
   ]
  },
  {
   "cell_type": "markdown",
   "metadata": {
    "id": "x8WCxgdHyUft"
   },
   "source": [
    "\n",
    "\n",
    "> ### Test 1.3: Point != Challenge Input, w/ 1 X error Correctness Check\n"
   ]
  },
  {
   "cell_type": "code",
   "execution_count": 17,
   "metadata": {
    "colab": {
     "base_uri": "https://localhost:8080/"
    },
    "id": "fSRv3c4HyU6y",
    "outputId": "194e587b-48e3-4013-9a6a-96e62d011955"
   },
   "outputs": [
    {
     "name": "stdout",
     "output_type": "stream",
     "text": [
      "\n",
      "_____________PART C: Challenge Input != Point - one X Error_____________\n",
      "mcalcal_0000000000\n",
      "mcalcal_1111111111\n"
     ]
    },
    {
     "name": "stderr",
     "output_type": "stream",
     "text": [
      "/tmp/ipykernel_6076/1824150934.py:387: DeprecationWarning: Sampling from a set deprecated\n",
      "since Python 3.9 and will be removed in a subsequent version.\n",
      "  singles = random.sample(set(list(range(20)))-set(cnot_values),num_qubits-(num_cnots*2))\n"
     ]
    },
    {
     "name": "stdout",
     "output_type": "stream",
     "text": [
      "mcalcal_0000000000\n",
      "mcalcal_0001010101\n",
      "mcalcal_1110101010\n",
      "mcalcal_1111111111\n",
      "3\n"
     ]
    }
   ],
   "source": [
    "print(\"\\n_____________PART C: Challenge Input != Point - one X Error_____________\")\n",
    "for j in range(NUM_DIFF_PROGRAMS):\n",
    "  p, k1, key2, cnots, hadamards, x_key, z_key, data = prepare_for_test(server)\n",
    "  program = server.protect(cnots, hadamards, x_key, z_key, init_data=data)\n",
    "  # prepare challenge input\n",
    "  i = np.random.choice(14,1,False)\n",
    "  index = (i[0]-28)\n",
    "  challenge_input = str(p[:index]) + str((int(p[index])+1)%2) + str(p[index+1:])\n",
    "  challenge_key1, challenge_key2 = server.point_to_keys(challenge_input)\n",
    "  for k in range(NUM_ITERATIONS): \n",
    "    sp_list, sp_mit_single_list, sp_mit_all_list, dp_list, meas_filter_singles, meas_filter_alls, mit_pattern_s, mit_pattern_all = get_programs_for_test(server, challenge_input, program, k1, sp_list, sp_mit_single_list, sp_mit_all_list, dp_list, meas_filter_singles, meas_filter_alls)\n",
    "    index = j*NUM_ITERATIONS+k +(NUM_ITERATIONS*NUM_DIFF_PROGRAMS*2)\n",
    "    results_info_decoded.loc[index] = [str(p) == str(challenge_input), p, challenge_input, k1, key2, challenge_key1, challenge_key2,\"-\",\"-\"]\n",
    "    results_info.loc[index] = [str(p) == str(challenge_input), p, challenge_input, k1, key2, challenge_key1, challenge_key2,  mit_pattern_s, mit_pattern_all]\n",
    "print(len(results_info))"
   ]
  },
  {
   "cell_type": "markdown",
   "metadata": {
    "id": "8KyW4D54yYjb"
   },
   "source": [
    "\n",
    "> ### Test 1.4: Point != Challenge Input, w/ 1 Z error Correctness Check\n",
    "\n",
    "\n",
    "\n"
   ]
  },
  {
   "cell_type": "code",
   "execution_count": 18,
   "metadata": {
    "colab": {
     "base_uri": "https://localhost:8080/"
    },
    "id": "QRovXUilyvIZ",
    "outputId": "dbd92382-7706-496f-8840-00bccff1c181"
   },
   "outputs": [
    {
     "name": "stdout",
     "output_type": "stream",
     "text": [
      "\n",
      "_____________PART D: Challenge Input != Point - one Z-Error_____________\n",
      "-8\n",
      "mcalcal_0000000000\n",
      "mcalcal_1111111111\n"
     ]
    },
    {
     "name": "stderr",
     "output_type": "stream",
     "text": [
      "/tmp/ipykernel_6076/1824150934.py:387: DeprecationWarning: Sampling from a set deprecated\n",
      "since Python 3.9 and will be removed in a subsequent version.\n",
      "  singles = random.sample(set(list(range(20)))-set(cnot_values),num_qubits-(num_cnots*2))\n"
     ]
    },
    {
     "name": "stdout",
     "output_type": "stream",
     "text": [
      "mcalcal_0000000000\n",
      "mcalcal_0000010101\n",
      "mcalcal_1111101010\n",
      "mcalcal_1111111111\n"
     ]
    }
   ],
   "source": [
    "print(\"\\n_____________PART D: Challenge Input != Point - one Z-Error_____________\")\n",
    "for j in range(NUM_DIFF_PROGRAMS):\n",
    "  p, k1, key2, cnots, hadamards, x_key, z_key, data = prepare_for_test(server)\n",
    "  program = server.protect(cnots, hadamards, x_key, z_key, init_data=data)\n",
    "  # prepare challenge input\n",
    "  i = np.random.choice(14,1,False)\n",
    "  index = (i[0]-14)\n",
    "  print(index)\n",
    "  if i == 13:\n",
    "    challenge_input = str(p[:index]) + str((int(p[index])+1)%2)\n",
    "  else:\n",
    "    challenge_input = str(p[:index]) + str((int(p[index])+1)%2) + str(p[index+1:])\n",
    "  challenge_key1, challenge_key2 = server.point_to_keys(challenge_input)\n",
    " \n",
    "  for k in range(NUM_ITERATIONS): \n",
    "    sp_list, sp_mit_single_list, sp_mit_all_list, dp_list, meas_filter_singles, meas_filter_alls, mit_pattern_s, mit_pattern_all = get_programs_for_test(server, challenge_input, program, k1, sp_list, sp_mit_single_list, sp_mit_all_list, dp_list, meas_filter_singles, meas_filter_alls)\n",
    "    index = j*NUM_ITERATIONS+k +(NUM_ITERATIONS*NUM_DIFF_PROGRAMS*3)\n",
    "    results_info.loc[index] = [str(p) == str(challenge_input), p, challenge_input, k1, key2, challenge_key1, challenge_key2, mit_pattern_s, mit_pattern_all]\n",
    "    results_info_decoded.loc[index] = [str(p) == str(challenge_input), p, challenge_input, k1, key2, challenge_key1, challenge_key2,  \"-\", \"-\"]"
   ]
  },
  {
   "cell_type": "markdown",
   "metadata": {
    "id": "cJlrozBnycGE"
   },
   "source": [
    "\n",
    "> ### Test 1.5: Point != Challenge Input, w/ 1 X, Z error EACH\n",
    "\n",
    "\n",
    "\n"
   ]
  },
  {
   "cell_type": "code",
   "execution_count": 19,
   "metadata": {
    "colab": {
     "base_uri": "https://localhost:8080/"
    },
    "id": "ot8B4jgByvz6",
    "outputId": "b60cec04-c57e-4508-c0c6-b1f6ebca33e0"
   },
   "outputs": [
    {
     "name": "stdout",
     "output_type": "stream",
     "text": [
      "\n",
      "_____________PART E: Challenge Input != Point - one X and Z Error_____________\n",
      "mcalcal_0000000000\n",
      "mcalcal_1111111111\n"
     ]
    },
    {
     "name": "stderr",
     "output_type": "stream",
     "text": [
      "/tmp/ipykernel_6076/1824150934.py:387: DeprecationWarning: Sampling from a set deprecated\n",
      "since Python 3.9 and will be removed in a subsequent version.\n",
      "  singles = random.sample(set(list(range(20)))-set(cnot_values),num_qubits-(num_cnots*2))\n"
     ]
    },
    {
     "name": "stdout",
     "output_type": "stream",
     "text": [
      "mcalcal_0000000000\n",
      "mcalcal_1111111111\n"
     ]
    }
   ],
   "source": [
    "print(\"\\n_____________PART E: Challenge Input != Point - one X and Z Error_____________\")\n",
    "for j in range(NUM_DIFF_PROGRAMS):\n",
    "  p, k1, key2, cnots, hadamards, x_key, z_key, data = prepare_for_test(server)\n",
    "  program = server.protect(cnots, hadamards, x_key, z_key, init_data=data)\n",
    "  # prepare challenge input\n",
    "  i = np.sort(np.random.choice(14,2,True))\n",
    "  x_error_index = i[0] - 28\n",
    "  z_error_index = i[1] - 14\n",
    "  if i[1] == 13:\n",
    "    challenge_input = str(p[:x_error_index]) + str((int(p[x_error_index])+1)%2) + str(p[x_error_index+1: z_error_index])\n",
    "  else:\n",
    "    challenge_input = str(p[:x_error_index]) + str((int(p[x_error_index])+1)%2) + str(p[x_error_index+1: z_error_index])+ str((int(p[z_error_index])+1)%2)+ str(p[z_error_index+1:])\n",
    "  challenge_key1, challenge_key2 = server.point_to_keys(challenge_input)\n",
    "  \n",
    "  for k in range(NUM_ITERATIONS): \n",
    "    sp_list, sp_mit_single_list, sp_mit_all_list, dp_list, meas_filter_singles, meas_filter_alls, mit_pattern_s, mit_pattern_all = get_programs_for_test(server, challenge_input, program, k1, sp_list, sp_mit_single_list, sp_mit_all_list, dp_list, meas_filter_singles, meas_filter_alls)\n",
    "    index = j*NUM_ITERATIONS+k +(NUM_ITERATIONS*NUM_DIFF_PROGRAMS*4)\n",
    "    results_info.loc[index] = [str(p) == str(challenge_input), p, challenge_input, k1, key2, challenge_key1, challenge_key2, mit_pattern_s, mit_pattern_all]\n",
    "    results_info_decoded.loc[index] = [str(p) == str(challenge_input), p, challenge_input, k1, key2, challenge_key1, challenge_key2, \"-\", \"-\"]"
   ]
  },
  {
   "cell_type": "markdown",
   "metadata": {
    "id": "19ncDirWyibr"
   },
   "source": [
    "\n",
    "\n",
    "> ### Test 1.6: Point != Challenge Input, w/ random error Correctness Check\n",
    "\n"
   ]
  },
  {
   "cell_type": "code",
   "execution_count": 20,
   "metadata": {
    "colab": {
     "base_uri": "https://localhost:8080/"
    },
    "id": "5EOv1CBMywbg",
    "outputId": "a6c62196-0660-4032-8329-b4a5a7d678a0"
   },
   "outputs": [
    {
     "name": "stdout",
     "output_type": "stream",
     "text": [
      "\n",
      "_____________PART F: Random Challenge Input_____________\n",
      "mcalcal_0000000000\n",
      "mcalcal_1111111111\n"
     ]
    },
    {
     "name": "stderr",
     "output_type": "stream",
     "text": [
      "/tmp/ipykernel_6076/1824150934.py:387: DeprecationWarning: Sampling from a set deprecated\n",
      "since Python 3.9 and will be removed in a subsequent version.\n",
      "  singles = random.sample(set(list(range(20)))-set(cnot_values),num_qubits-(num_cnots*2))\n"
     ]
    },
    {
     "name": "stdout",
     "output_type": "stream",
     "text": [
      "mcalcal_0000000000\n",
      "mcalcal_0000010101\n",
      "mcalcal_1111101010\n",
      "mcalcal_1111111111\n"
     ]
    }
   ],
   "source": [
    "print(\"\\n_____________PART F: Random Challenge Input_____________\")\n",
    "for i in range(NUM_RANDOM_ITERATIONS):\n",
    "  p, k1, key2, cnots, hadamards, x_key, z_key, data = prepare_for_test(server)\n",
    "  program = server.protect(cnots, hadamards, x_key, z_key, init_data=data)\n",
    "  # prepare challenge input\n",
    "  challenge_input = server.sample_challenge_point(p)\n",
    "  challenge_key1, challenge_key2 = server.point_to_keys(challenge_input)\n",
    "  \n",
    "  sp_list, sp_mit_single_list, sp_mit_all_list, dp_list, meas_filter_singles, meas_filter_alls, mit_pattern_s, mit_pattern_all = get_programs_for_test(server, challenge_input, program, k1, sp_list, sp_mit_single_list, sp_mit_all_list, dp_list, meas_filter_singles, meas_filter_alls)\n",
    "  index = (NUM_ITERATIONS*NUM_DIFF_PROGRAMS*5)+i\n",
    "  results_info.loc[index] = [str(p) == str(challenge_input), p, challenge_input, k1, key2, challenge_key1, challenge_key2, mit_pattern_s, mit_pattern_all]\n",
    "  results_info_decoded.loc[index] = [str(p) == str(challenge_input), p, challenge_input, k1, key2, challenge_key1, challenge_key2,  \"-\", \"-\"]\n",
    "\n"
   ]
  },
  {
   "cell_type": "markdown",
   "metadata": {
    "id": "hzTm1zV6kR6l"
   },
   "source": [
    "# Execute Circuits prepared in Tests"
   ]
  },
  {
   "cell_type": "markdown",
   "metadata": {
    "id": "lNCA7oKNkHnp"
   },
   "source": [
    "### Transpiling Circuits\n",
    "\n",
    "\n",
    "---\n",
    "\n"
   ]
  },
  {
   "cell_type": "code",
   "execution_count": 21,
   "metadata": {
    "id": "-bM7qIM1NOq4"
   },
   "outputs": [],
   "source": [
    "def get_transpiled_circuit_and_depth(circuit_list, backend, init_qubits, opt_level = 2, num_seeds = 1):\n",
    "  \"\"\"\n",
    "  Gets the list of transpiled circuits with the least gate depths based on the random seeds of the specified quantum backend \n",
    "  \n",
    "  Parameters:\n",
    "  circuit_list ([qiskit's QuantumCircuit]): list of circuits to be transpiled\n",
    "  backend (qiskit's IBMQBackend): specified quantum computer for transpiling the circuits\n",
    "  init_qubits ([int]): mapping of virtual to physical qubits\n",
    "  opt_level (int): the optimization level of the transpiled circuits\n",
    "  num_seeds (int): the number of random seeds to iterate through\n",
    "  \n",
    "  Returns:\n",
    "  transpiled_list ([qiskit's QuantumCircuit]): transpiled circuits with the least gate depths\n",
    "  transpiled_depths ([int]): corresponding gate depths of transpiled_list\n",
    "  \"\"\"\n",
    "  transpiled_list = []\n",
    "  transpiled_depths = []\n",
    "  for i in range(len(circuit_list)):\n",
    "    min_circ = transpile(circuit_list[i], backend, initial_layout=init_qubits[i])\n",
    "    min_depth = min_circ.depth()\n",
    "    for j in range(num_seeds):\n",
    "      transpiled_circ = transpile(circuit_list[i], backend, initial_layout=init_qubits[i],optimization_level=opt_level)\n",
    "      depth = transpiled_circ.depth()\n",
    "      if depth < min_depth:\n",
    "        min_depth = depth\n",
    "        min_circ = transpiled_circ\n",
    "    transpiled_list.append(min_circ)\n",
    "    transpiled_depths.append(min_circ.depth())\n",
    "  return transpiled_list, transpiled_depths"
   ]
  },
  {
   "cell_type": "code",
   "execution_count": 22,
   "metadata": {
    "colab": {
     "base_uri": "https://localhost:8080/",
     "height": 370
    },
    "id": "p6Azi1VlkZsb",
    "outputId": "c04bae1e-2001-425a-c010-6f185954cbe7"
   },
   "outputs": [],
   "source": [
    "# getting the virtual to physical qubit mapping for all circuits\n",
    "# mapping is based on the permutation of the circuits and the ideal physical ordering of the quantum computer\n",
    "init_qubits= []\n",
    "init_qubits_msg = []\n",
    "for key1 in results_info.challenge_key_1:\n",
    "  k1 = key1[:]\n",
    "  for i in range(len(k1)):\n",
    "    k1[i]= unpermuted_layout[k1[i]]\n",
    "  init_qubits_msg.append(k1[:])\n",
    "  for j in syndrome_layout:\n",
    "    k1.append(j)\n",
    "  init_qubits.append(k1)\n",
    "\n",
    "# getting all the transpiled circuits\n",
    "transpiled_sp_list, transpiled_sp_depths = get_transpiled_circuit_and_depth(sp_list, BACKEND, init_qubits, num_seeds = NUM_SEEDS)\n",
    "transpiled_sp_singles_list, transpiled_sp_singles_depths = get_transpiled_circuit_and_depth(sp_mit_single_list, BACKEND, init_qubits, num_seeds =  NUM_SEEDS)\n",
    "transpiled_sp_all_list, transpiled_sp_all_depths = get_transpiled_circuit_and_depth(sp_mit_all_list, BACKEND, init_qubits, num_seeds =  NUM_SEEDS)\n",
    "transpiled_sp_msg_list, transpiled_sp_msg_depths = get_transpiled_circuit_and_depth(dp_list, BACKEND, init_qubits_msg, num_seeds =  NUM_SEEDS)\n"
   ]
  },
  {
   "cell_type": "markdown",
   "metadata": {
    "id": "Fj_80G42kjGa"
   },
   "source": [
    "> ### Run Transpiled Circuits on Quantum Computers & Saving to Files"
   ]
  },
  {
   "cell_type": "code",
   "execution_count": 23,
   "metadata": {
    "id": "K7jGF0x7SLk5"
   },
   "outputs": [
    {
     "name": "stdout",
     "output_type": "stream",
     "text": [
      " Iteration 0\n",
      " Iteration 1\n",
      " Iteration 2\n",
      " Iteration 3\n",
      " Iteration 4\n",
      " Iteration 5\n"
     ]
    }
   ],
   "source": [
    "# execute jobs of transpiled error syndrome programs\n",
    "job = execute(transpiled_sp_list, BACKEND, shots=NUM_SHOTS)\n",
    "results_sim = job.result()\n",
    "counts = results_sim.get_counts()\n",
    "counts = [str(x) for x in counts]\n",
    "\n",
    "# saving data\n",
    "results_info.insert(9, \"device_counts\",counts)\n",
    "results_info.insert(10, \"circuit_depth\", transpiled_sp_depths)\n",
    "results_info.to_csv(filename_error)\n",
    "\n",
    "mit_counts_singles = []\n",
    "mit_counts_all = []\n",
    "\n",
    "# execute jobs of transpiled error syndrome programs (with partial qubit measurement) for error mitigation\n",
    "job_s = execute(transpiled_sp_singles_list, BACKEND, shots=NUM_SHOTS)\n",
    "job_all = execute(transpiled_sp_all_list, BACKEND, shots=NUM_SHOTS)\n",
    "results_sim_s = job_s.result()\n",
    "counts_s = results_sim_s.get_counts()\n",
    "results_sim_all = job_all.result()\n",
    "counts_all = results_sim_all.get_counts()\n",
    "\n",
    "# get the mitigated counts of the transpiled error syndrome (with partial qubit measurement)\n",
    "for j in range(NUM_ITERATIONS*NUM_DIFF_PROGRAMS*5+ NUM_RANDOM_ITERATIONS):\n",
    "  print(f\" Iteration {j}\")\n",
    "  mitigated_counts = meas_filter_singles[j].apply(counts_s[j])\n",
    "  mit_counts_singles.append(str(mitigated_counts))\n",
    "  \n",
    "  mitigated_counts = meas_filter_alls[j].apply(counts_all[j])\n",
    "  mit_counts_all.append(str(mitigated_counts))\n",
    "\n",
    "# saving data\n",
    "results_info.insert(11, \"raw_singles\", counts_s)\n",
    "results_info.insert(12,\"raw_all\", counts_all)\n",
    "results_info.insert(13, \"mitigated_counts_singles\",mit_counts_singles)\n",
    "results_info.insert(14, \"singles_circuit_depth\", transpiled_sp_singles_depths)\n",
    "results_info.insert(15, \"mitigated_counts_all\",mit_counts_all)\n",
    "results_info.insert(16, \"all_circuit_depth\", transpiled_sp_all_depths)\n",
    "results_info.to_csv(filename_mit)"
   ]
  },
  {
   "cell_type": "code",
   "execution_count": 24,
   "metadata": {
    "id": "zxwtEVarknXU"
   },
   "outputs": [],
   "source": [
    "# execute jobs of undoed programs\n",
    "job = execute(transpiled_sp_msg_list, BACKEND, shots=NUM_SHOTS)\n",
    "results_sim = job.result()\n",
    "de_counts = results_sim.get_counts()\n",
    "\n",
    "# saving data\n",
    "results_info_decoded.insert(8, \"device_counts\",de_counts)\n",
    "results_info_decoded.insert(9, \"circuit_depth\", transpiled_sp_msg_depths)\n",
    "results_info_decoded.to_csv(filename_decoded)"
   ]
  },
  {
   "cell_type": "code",
   "execution_count": null,
   "metadata": {
    "id": "LCkZL1Gm8NdA"
   },
   "outputs": [],
   "source": [
    "# saving some generic data\n",
    "with open(filename_0, 'w') as writefile:\n",
    "  x = time.time() - start\n",
    "  writefile.write(\"--------------------ELAPSED TIME: \\n\")\n",
    "  writefile.write(str(x))\n",
    "  writefile.write(\"\\n________________________________COUNTS_____________________________________\\n\")\n",
    "  writefile.write(str(counts))\n",
    "  writefile.write(\"\\n________________________________DECODED_COUNTS_____________________________________\\n\")\n",
    "  writefile.write(str(de_counts))"
   ]
  }
 ],
 "metadata": {
  "colab": {
   "collapsed_sections": [],
   "name": "QPA_20_Qubits",
   "provenance": [],
   "toc_visible": true
  },
  "kernelspec": {
   "display_name": "Python 3 (ipykernel)",
   "language": "python",
   "name": "python3"
  },
  "language_info": {
   "codemirror_mode": {
    "name": "ipython",
    "version": 3
   },
   "file_extension": ".py",
   "mimetype": "text/x-python",
   "name": "python",
   "nbconvert_exporter": "python",
   "pygments_lexer": "ipython3",
   "version": "3.10.12"
  }
 },
 "nbformat": 4,
 "nbformat_minor": 4
}
