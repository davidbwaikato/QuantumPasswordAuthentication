{
  "nbformat": 4,
  "nbformat_minor": 0,
  "metadata": {
    "colab": {
      "name": "Processing and Graphing Results",
      "provenance": [],
      "collapsed_sections": [],
      "toc_visible": true
    },
    "kernelspec": {
      "display_name": "Python 3",
      "name": "python3"
    },
    "language_info": {
      "name": "python"
    }
  },
  "cells": [
    {
      "cell_type": "code",
      "metadata": {
        "id": "UCYHh0II0U5y"
      },
      "source": [
        "import csv\n",
        "import numpy as np\n",
        "from google.colab import drive\n",
        "import pandas as pd\n",
        "import json\n",
        "import ast\n",
        "import matplotlib.pyplot as plt\n",
        "import collections"
      ],
      "execution_count": 70,
      "outputs": []
    },
    {
      "cell_type": "markdown",
      "metadata": {
        "id": "zA-o50i_3Q9f"
      },
      "source": [
        "#Main Functions"
      ]
    },
    {
      "cell_type": "code",
      "metadata": {
        "id": "OovOF-cka2ZN"
      },
      "source": [
        "def reverse_counts(counts, size=20):\n",
        "  \"\"\" \n",
        "  Reverses the keys of a dictionary (i.e. the characters in all the keys are reversed)\n",
        "\n",
        "  Parameters:\n",
        "  counts (dict): dictionary containing the measurement results\n",
        "  size (int): the number of qubits measured\n",
        "\n",
        "  Returns:\n",
        "  reverse_counts (dict): dictionary with keys in reverse order\n",
        "  \"\"\"\n",
        "  intermediate = {}\n",
        "  for key, value in counts.items():\n",
        "    rev_key = \"\"\n",
        "    for i in range(size):\n",
        "      rev_key = rev_key + key[size-i-1]\n",
        "    intermediate[key] = rev_key\n",
        "  reverse_counts = dict([(intermediate.get(k), v) for k, v in counts.items()])\n",
        "  return reverse_counts\n",
        "\n",
        "def get_delegated_OTP_keys(permutation, x_key, z_key, num_qubits=14, syndrome_cnots = [[14, 0], [14, 2], [14, 4], [14, 6], [15, 1], [15, 2], [15, 5], [15, 6], [16, 3], [16, 4], [16, 5], [16, 6], [17, 7], [17, 9], [17, 11], [17, 13], [18, 8], [18, 9], [18, 12], [18, 13], [19, 10], [19, 11], [19, 12], [19, 13]]):\n",
        "  \"\"\" \n",
        "  Get delegated, post-processed, classical one-time pad keys for a program\n",
        "\n",
        "  Parameters:\n",
        "  permutation ([int]): permutation key\n",
        "  x_key ([int]): X part of the non-delegated one-time pad key\n",
        "  z_key ([int]): Z part of the non-delegated one-time pad key\n",
        "  num_qubits (int): number of data qubits\n",
        "  syndrome_cnots ([[int,int]]): all cnot gates used to derive error syndromes\n",
        "\n",
        "  Returns:\n",
        "  delegated_x_key ([int]): classically processed and delegated X part of one-time pad key\n",
        "  delegated_z_key ([int]): classically processed and delegated Z part of one-time pad key\n",
        "  \"\"\"\n",
        "  permuted_cnots = []\n",
        "  for gate in syndrome_cnots:\n",
        "    permuted_cnots.append([gate[0],permutation.index(gate[1])])\n",
        "\n",
        "  new_x_key = x_key[:]\n",
        "  new_z_key = z_key[:]\n",
        "\n",
        "  for cnot in permuted_cnots:\n",
        "    a = new_x_key[cnot[0]]\n",
        "    b = new_z_key[cnot[0]]\n",
        "    c = new_x_key[cnot[1]]\n",
        "    d = new_z_key[cnot[1]]\n",
        "    new_x_key[cnot[0]] = a\n",
        "    new_z_key[cnot[0]] = b+d\n",
        "    new_x_key[cnot[1]] = a+c\n",
        "    new_z_key[cnot[1]] = d\n",
        "\n",
        "  #hadamard operator delegation\n",
        "  for i in range(num_qubits,num_qubits + int(num_qubits/7*3)):\n",
        "    new_x_key[i], new_z_key[i] =  new_z_key[i], new_x_key[i]\n",
        "\n",
        "  delegated_x_key = [i%2 for i in new_x_key]\n",
        "  delegated_z_key = [i%2 for i in new_z_key]\n",
        "  return delegated_x_key, delegated_z_key\n",
        "\n",
        "def apply_OTP_and_unpermute(counts, permutation, x_key, z_key, num_qubits=14):\n",
        "  \"\"\"\n",
        "  Classical processing of quantum measurement outcomes\n",
        "  Includes applying the delegated one-time pad and unpermuting the circuit\n",
        "\n",
        "  Parameters:\n",
        "  counts (dict): all the measurement outcomes for a job\n",
        "  permutation([int]): permutation key\n",
        "  x_key ([int]): x gates part of one-time pad key\n",
        "  z_key ([int]): z gates part of one-time pad key \n",
        "  num_qubits (int): number of data qubits\n",
        "\n",
        "  Returns:\n",
        "  unpermuted_steane(dict): classically post processed measurement outcomes\n",
        "  \"\"\"\n",
        "  processed_results = {}\n",
        "  for key, value in counts.items():\n",
        "    new_key = \"\"\n",
        "    for i in range(num_qubits + int(num_qubits/7*3)):\n",
        "      val = int(key[i])\n",
        "      k2_val = int(x_key[i])\n",
        "      if k2_val == 1 and val == 0:\n",
        "        new_key = new_key + \"1\"\n",
        "      elif k2_val == 1 and val == 1:\n",
        "        new_key = new_key + \"0\"\n",
        "      else:\n",
        "        new_key = new_key + str(val)\n",
        "    processed_results[new_key] = value\n",
        "\n",
        "  unpermuted_steane = {}\n",
        "  for key, value in processed_results.items():\n",
        "    new_key = \"\"\n",
        "    for i in range(num_qubits):\n",
        "      new_key = new_key+ key[permutation.index(i)]\n",
        "    syndrome_keys=\"\"\n",
        "    for j in range(int(num_qubits/7*3)):\n",
        "      syndrome_keys = syndrome_keys + key[-int(int(num_qubits/7*3)-j)]\n",
        "    new_key = new_key + syndrome_keys\n",
        "    # print(syndrome_keys)\n",
        "    # print(new_key)\n",
        "    unpermuted_steane[new_key] = value\n",
        "  return unpermuted_steane\n",
        "\n",
        "def check_correctness(counts, codeword_combos, syndrome = '000000', num_shots = 8192, num_qubits = 14):\n",
        "  \"\"\" \n",
        "  Gets the correct measurement outcome rates of a job\n",
        "\n",
        "  Parameters:\n",
        "  counts (dict): all processed measurement outcomes\n",
        "  codeword_combos ([str]): all codewords\n",
        "  syndrome (str): the correct no error syndrome\n",
        "  num_shots (int): the number of times the computation was run\n",
        "  num_qubits (int): the number of data qubits\n",
        "\n",
        "  Returns:\n",
        "  bit_rate (float): rate of measurement outcomes that have no bit flips (i.e. no bit error)\n",
        "  phase_rate (float): rate of measurement outcomes that have no phase flips (i.e. no phase error)\n",
        "  all_rate (float): rate of measurement outcomes that have no bit or phase flips (i.e. no bit and phase error)\n",
        "  \"\"\"\n",
        "\n",
        "  bit_count = 0\n",
        "  phase_count = 0\n",
        "  all_count = 0\n",
        "  for key, val in counts.items():\n",
        "    if key[:num_qubits] in codeword_combos:\n",
        "      bit_count = bit_count + 1\n",
        "      if key[num_qubits:] == syndrome:\n",
        "        all_count = all_count +1\n",
        "    if key[num_qubits:] == syndrome:\n",
        "      phase_count = phase_count +1\n",
        "  bit_rate = bit_count/num_shots\n",
        "  phase_rate = phase_count/num_shots\n",
        "  all_rate = all_count/num_shots\n",
        "  return bit_rate, phase_rate, all_rate\n",
        "\n",
        "def get_average_rates(file_name, num_tests = 5, num_iterations= 10):\n",
        "  \"\"\" \n",
        "  Gets the average true positive and false positive rates for the different tests\n",
        "  For tests where the challenge input is equal to the password, the average true positive rate is found.\n",
        "  In all other cases, the average false positive is found.\n",
        "  \n",
        "  Parameters:\n",
        "  file_name (str): the name of the file in which the rates for the individual rates were saved\n",
        "  num_tests (int): the number of different tests performed\n",
        "  num_iterations (int): the number of iterations each test was performed\n",
        "\n",
        "  Returns:\n",
        "  new_df (panda's DataFrame): contains the averages of all the tests\n",
        "\n",
        "  \"\"\"\n",
        "  try:\n",
        "    df = pd.read_csv(file_name)\n",
        "  except Error as err:\n",
        "    print(\"Error: \", err)\n",
        "  \n",
        "  new_df = pd.DataFrame()\n",
        "\n",
        "  for i in range(num_tests):\n",
        "    avgs = df[i*num_iterations:(i+1)*num_iterations].mean()\n",
        "    new_df[str(i)] = avgs\n",
        "  return new_df\n",
        "\n",
        "def get_average_rates_from_random_tests(file_name, start_index, end_index):\n",
        "  \"\"\" \n",
        "  Gets the average true positive and false positive rates for tests that sample random challenge inputs\n",
        "  For tests where the challenge input is equal to the password, the average true positive rate is found.\n",
        "  In all other cases, the average false positive is found.\n",
        "  \n",
        "  Parameters:\n",
        "  file_name (str): the name of the file in which the rates for the individual rates were saved\n",
        "  start_index (int): the location of where random tests starts according to data ordered in file_name\n",
        "  end_index (int): the location of where random tests ends according to data ordered in file_name\n",
        "\n",
        "  Returns:\n",
        "  new_df (panda's DataFrame): contains the averages of the random tests\n",
        "\n",
        "  \"\"\"\n",
        "  try:\n",
        "    df = pd.read_csv(file_name)\n",
        "  except Error as err:\n",
        "    print(\"Error: \", err)\n",
        "  new_df = pd.DataFrame()\n",
        "\n",
        "  random_avgs = df[start_index:end_index].groupby(['is_p']).get_group(True).mean()\n",
        "  new_df[\"True Positive\"] = random_avgs\n",
        "  random_avgs = df[start_index:end_index].groupby(['is_p']).get_group(False).mean()\n",
        "  new_df[\"False Positive\"] = random_avgs\n",
        "  return new_df"
      ],
      "execution_count": 71,
      "outputs": []
    },
    {
      "cell_type": "markdown",
      "metadata": {
        "id": "w4UvM1nK36yX"
      },
      "source": [
        "# User Defined Values"
      ]
    },
    {
      "cell_type": "code",
      "metadata": {
        "colab": {
          "base_uri": "https://localhost:8080/"
        },
        "id": "ZcdEsBiN4VIx",
        "outputId": "cca46c3d-854c-4b45-d88e-5066a1cdfbf3"
      },
      "source": [
        "drive.mount('/content/drive')\n",
        "\n",
        "# set location for retrieving all the measurement outcome results and information\n",
        "info_file = \"/content/drive/My Drive/res/stripped_info.csv\"\n",
        "# set location for saving all the individual calculated error rates (i.e. bit, phase, and both bit and phase combined errors)\n",
        "save_file = \"/content/drive/My Drive/res/individual_error_rates.csv\""
      ],
      "execution_count": 72,
      "outputs": [
        {
          "output_type": "stream",
          "name": "stdout",
          "text": [
            "Drive already mounted at /content/drive; to attempt to forcibly remount, call drive.mount(\"/content/drive\", force_remount=True).\n"
          ]
        }
      ]
    },
    {
      "cell_type": "code",
      "metadata": {
        "id": "sZCVyHpH_P2o"
      },
      "source": [
        "df = pd.read_csv(info_file)\n",
        "all_key1 = df.challenge_key_1.to_list()\n",
        "all_key2 = df.challenge_key_2.to_list()\n",
        "is_point = df.is_point.to_list()"
      ],
      "execution_count": 73,
      "outputs": []
    },
    {
      "cell_type": "code",
      "metadata": {
        "id": "efxKnFcb7DPg"
      },
      "source": [
        "fields = ['#', 'is_p','no_bit_flip_percentage', 'no_phase_flip_percentage', 'no_error_percentage']\n",
        "stats = pd.DataFrame(columns=fields)"
      ],
      "execution_count": 74,
      "outputs": []
    },
    {
      "cell_type": "code",
      "metadata": {
        "id": "VNPrFGoq4oKE"
      },
      "source": [
        "first_steane_codewords = ['0000000','1010101','0110011','1100110','0001111','1011010','0111100','1101001']\n",
        "second_steane_codewords = ['0000000', '1110000', '1001100', '0111100', '0101010', '1011010', '1100110', '0010110', '1101001', '0011001', '0100101', '1010101', '1000011', '0110011', '0001111', '1111111']\n",
        "# the codewords of our Steane encoded program\n",
        "codeword_combos = [x+y for x in first_steane_codewords for y in second_steane_codewords]"
      ],
      "execution_count": 75,
      "outputs": []
    },
    {
      "cell_type": "markdown",
      "metadata": {
        "id": "dvYeNa55lLY5"
      },
      "source": [
        "# Calculate Error Rates "
      ]
    },
    {
      "cell_type": "markdown",
      "metadata": {
        "id": "Y3B3wr_tv_AO"
      },
      "source": [
        "## Option 1: Calculating Rates From File\n",
        "\n"
      ]
    },
    {
      "cell_type": "markdown",
      "metadata": {
        "id": "KAuFO0bskFl1"
      },
      "source": [
        "Calculate the true positive and false positive rates for all test results from a file containing all the raw counts.\n",
        "\n"
      ]
    },
    {
      "cell_type": "code",
      "metadata": {
        "id": "8PfbzL894a3I"
      },
      "source": [
        "# set location of data file containing a list of raw counts only\n",
        "# format of file: \"[\"{'00000000000000000000':8192}\"]\"\n",
        "data = \"/content/drive/My Drive/res/secondary/raw_counts_data.txt\""
      ],
      "execution_count": 76,
      "outputs": []
    },
    {
      "cell_type": "code",
      "metadata": {
        "id": "bAxPzG2X7di5",
        "colab": {
          "base_uri": "https://localhost:8080/"
        },
        "outputId": "2e4402d3-dc4d-46b4-8922-74d242d1a750"
      },
      "source": [
        "raw_data = \"\"\n",
        "with open(data) as f:\n",
        "  raw_data = f.read()\n",
        "raw_data = ast.literal_eval(raw_data)\n",
        "\n",
        "index = 0\n",
        "for x in raw_data:\n",
        "  raw = ast.literal_eval(x)\n",
        "  counts = reverse_counts(raw)\n",
        "  key1 = ast.literal_eval(all_key1[index])\n",
        "  key2 = ast.literal_eval(all_key2[index])\n",
        "  xkey = key2[0] + [0]*6\n",
        "  zkey = key2[1] + [0]*6\n",
        "  x_key, z_key = get_delegated_OTP_keys(key1, xkey, zkey)\n",
        "  processed_counts = apply_OTP_and_unpermute(counts, key1, x_key, z_key)\n",
        "  bit, phase ,all = check_correctness(processed_counts, codeword_combos)\n",
        "  print(is_point[index], bit, phase, all)\n",
        "  stats.loc[index] = [index, is_point[index], bit, phase, all]\n",
        "  index = index +1"
      ],
      "execution_count": 77,
      "outputs": [
        {
          "output_type": "stream",
          "name": "stdout",
          "text": [
            "True 0.021240234375 0.0174560546875 0.0001220703125\n",
            "True 0.0284423828125 0.020751953125 0.0001220703125\n",
            "True 0.020751953125 0.013671875 0.0001220703125\n",
            "True 0.02587890625 0.0128173828125 0.0003662109375\n",
            "True 0.02294921875 0.0137939453125 0.000244140625\n",
            "True 0.0377197265625 0.0157470703125 0.000732421875\n",
            "True 0.025390625 0.0107421875 0.00048828125\n",
            "True 0.0308837890625 0.0169677734375 0.0008544921875\n",
            "True 0.029052734375 0.0146484375 0.0003662109375\n",
            "True 0.0250244140625 0.0203857421875 0.000244140625\n",
            "False 0.015625 0.0166015625 0.0001220703125\n",
            "False 0.016357421875 0.014404296875 0.0001220703125\n",
            "False 0.0211181640625 0.018310546875 0.0006103515625\n",
            "False 0.01318359375 0.017578125 0.0001220703125\n",
            "False 0.015625 0.0152587890625 0.0001220703125\n",
            "False 0.0185546875 0.0152587890625 0.0001220703125\n",
            "False 0.0146484375 0.013671875 0.00048828125\n",
            "False 0.0130615234375 0.0174560546875 0.00048828125\n",
            "False 0.0225830078125 0.0181884765625 0.00048828125\n",
            "False 0.0106201171875 0.0194091796875 0.0\n",
            "False 0.017578125 0.016845703125 0.0003662109375\n",
            "False 0.0272216796875 0.0152587890625 0.0006103515625\n",
            "False 0.0181884765625 0.013427734375 0.0\n",
            "False 0.0103759765625 0.017333984375 0.0001220703125\n",
            "False 0.0169677734375 0.0142822265625 0.00048828125\n",
            "False 0.01123046875 0.015625 0.0001220703125\n",
            "False 0.0166015625 0.0150146484375 0.0001220703125\n",
            "False 0.017333984375 0.0150146484375 0.0001220703125\n",
            "False 0.0074462890625 0.0145263671875 0.0001220703125\n",
            "False 0.0181884765625 0.013671875 0.000244140625\n",
            "False 0.0269775390625 0.017578125 0.0\n",
            "False 0.0321044921875 0.016357421875 0.0003662109375\n",
            "False 0.022705078125 0.0108642578125 0.000244140625\n",
            "False 0.0341796875 0.0164794921875 0.00048828125\n",
            "False 0.0203857421875 0.0135498046875 0.00048828125\n",
            "False 0.023193359375 0.0213623046875 0.000732421875\n",
            "False 0.022216796875 0.015380859375 0.0001220703125\n",
            "False 0.0211181640625 0.012939453125 0.0003662109375\n",
            "False 0.020263671875 0.0162353515625 0.0001220703125\n",
            "False 0.0367431640625 0.01806640625 0.001220703125\n",
            "False 0.0172119140625 0.0177001953125 0.0003662109375\n",
            "False 0.01318359375 0.011474609375 0.0003662109375\n",
            "False 0.0257568359375 0.023681640625 0.0003662109375\n",
            "False 0.0185546875 0.0130615234375 0.00048828125\n",
            "False 0.017578125 0.013671875 0.000244140625\n",
            "False 0.0257568359375 0.013427734375 0.0003662109375\n",
            "False 0.0172119140625 0.0155029296875 0.000244140625\n",
            "False 0.0115966796875 0.01708984375 0.0\n",
            "False 0.0047607421875 0.013427734375 0.0001220703125\n",
            "False 0.0096435546875 0.01171875 0.0001220703125\n",
            "True 0.035400390625 0.0169677734375 0.000732421875\n",
            "True 0.0201416015625 0.0179443359375 0.000244140625\n",
            "True 0.038818359375 0.0146484375 0.0006103515625\n",
            "True 0.02490234375 0.0128173828125 0.0003662109375\n",
            "False 0.0078125 0.0155029296875 0.000244140625\n",
            "True 0.02685546875 0.016357421875 0.0\n",
            "False 0.00927734375 0.0177001953125 0.0\n",
            "False 0.00830078125 0.0145263671875 0.0\n",
            "False 0.0062255859375 0.01708984375 0.0001220703125\n",
            "False 0.0078125 0.01611328125 0.0001220703125\n"
          ]
        }
      ]
    },
    {
      "cell_type": "code",
      "metadata": {
        "id": "mXHYvMVqsdN1"
      },
      "source": [
        "stats.to_csv(save_file)"
      ],
      "execution_count": 78,
      "outputs": []
    },
    {
      "cell_type": "code",
      "metadata": {
        "colab": {
          "base_uri": "https://localhost:8080/"
        },
        "id": "5xHO0MczjAbR",
        "outputId": "af3dc6a5-959f-42c9-8136-7d36e68344ff"
      },
      "source": [
        "print(stats)"
      ],
      "execution_count": 79,
      "outputs": [
        {
          "output_type": "stream",
          "name": "stdout",
          "text": [
            "     #   is_p  ...  no_phase_flip_percentage  no_error_percentage\n",
            "0    0   True  ...                  0.017456             0.000122\n",
            "1    1   True  ...                  0.020752             0.000122\n",
            "2    2   True  ...                  0.013672             0.000122\n",
            "3    3   True  ...                  0.012817             0.000366\n",
            "4    4   True  ...                  0.013794             0.000244\n",
            "5    5   True  ...                  0.015747             0.000732\n",
            "6    6   True  ...                  0.010742             0.000488\n",
            "7    7   True  ...                  0.016968             0.000854\n",
            "8    8   True  ...                  0.014648             0.000366\n",
            "9    9   True  ...                  0.020386             0.000244\n",
            "10  10  False  ...                  0.016602             0.000122\n",
            "11  11  False  ...                  0.014404             0.000122\n",
            "12  12  False  ...                  0.018311             0.000610\n",
            "13  13  False  ...                  0.017578             0.000122\n",
            "14  14  False  ...                  0.015259             0.000122\n",
            "15  15  False  ...                  0.015259             0.000122\n",
            "16  16  False  ...                  0.013672             0.000488\n",
            "17  17  False  ...                  0.017456             0.000488\n",
            "18  18  False  ...                  0.018188             0.000488\n",
            "19  19  False  ...                  0.019409             0.000000\n",
            "20  20  False  ...                  0.016846             0.000366\n",
            "21  21  False  ...                  0.015259             0.000610\n",
            "22  22  False  ...                  0.013428             0.000000\n",
            "23  23  False  ...                  0.017334             0.000122\n",
            "24  24  False  ...                  0.014282             0.000488\n",
            "25  25  False  ...                  0.015625             0.000122\n",
            "26  26  False  ...                  0.015015             0.000122\n",
            "27  27  False  ...                  0.015015             0.000122\n",
            "28  28  False  ...                  0.014526             0.000122\n",
            "29  29  False  ...                  0.013672             0.000244\n",
            "30  30  False  ...                  0.017578             0.000000\n",
            "31  31  False  ...                  0.016357             0.000366\n",
            "32  32  False  ...                  0.010864             0.000244\n",
            "33  33  False  ...                  0.016479             0.000488\n",
            "34  34  False  ...                  0.013550             0.000488\n",
            "35  35  False  ...                  0.021362             0.000732\n",
            "36  36  False  ...                  0.015381             0.000122\n",
            "37  37  False  ...                  0.012939             0.000366\n",
            "38  38  False  ...                  0.016235             0.000122\n",
            "39  39  False  ...                  0.018066             0.001221\n",
            "40  40  False  ...                  0.017700             0.000366\n",
            "41  41  False  ...                  0.011475             0.000366\n",
            "42  42  False  ...                  0.023682             0.000366\n",
            "43  43  False  ...                  0.013062             0.000488\n",
            "44  44  False  ...                  0.013672             0.000244\n",
            "45  45  False  ...                  0.013428             0.000366\n",
            "46  46  False  ...                  0.015503             0.000244\n",
            "47  47  False  ...                  0.017090             0.000000\n",
            "48  48  False  ...                  0.013428             0.000122\n",
            "49  49  False  ...                  0.011719             0.000122\n",
            "50  50   True  ...                  0.016968             0.000732\n",
            "51  51   True  ...                  0.017944             0.000244\n",
            "52  52   True  ...                  0.014648             0.000610\n",
            "53  53   True  ...                  0.012817             0.000366\n",
            "54  54  False  ...                  0.015503             0.000244\n",
            "55  55   True  ...                  0.016357             0.000000\n",
            "56  56  False  ...                  0.017700             0.000000\n",
            "57  57  False  ...                  0.014526             0.000000\n",
            "58  58  False  ...                  0.017090             0.000122\n",
            "59  59  False  ...                  0.016113             0.000122\n",
            "\n",
            "[60 rows x 5 columns]\n"
          ]
        }
      ]
    },
    {
      "cell_type": "markdown",
      "metadata": {
        "id": "GpwKi3NXU6_R"
      },
      "source": [
        "## Option 2: Calculating Rates from A Single Set of Measurement Outcomes\n"
      ]
    },
    {
      "cell_type": "markdown",
      "metadata": {
        "id": "PdgKW8wnk12D"
      },
      "source": [
        "Calculate the true positive and false positive rates for all test results from a single job's measurement outcomes"
      ]
    },
    {
      "cell_type": "code",
      "metadata": {
        "id": "UfODIRiMp3kV"
      },
      "source": [
        "# set the index of the job\n",
        "index = 10"
      ],
      "execution_count": 80,
      "outputs": []
    },
    {
      "cell_type": "code",
      "metadata": {
        "id": "SF1NwZwwdyT5"
      },
      "source": [
        "# set a single job's measurement counts\n",
        "raw = {}"
      ],
      "execution_count": 81,
      "outputs": []
    },
    {
      "cell_type": "code",
      "metadata": {
        "id": "1kksyiPVTrdR"
      },
      "source": [
        "counts = reverse_counts(raw)\n",
        "key1 = ast.literal_eval(all_key1[index])\n",
        "key2 = ast.literal_eval(all_key2[index])\n",
        "xkey = key2[0] + [0]*6\n",
        "zkey = key2[1] + [0]*6\n",
        "\n",
        "del_x_key, del_z_key = get_delegated_OTP_keys(key1, xkey, zkey)\n",
        "processed_counts = apply_OTP_and_unpermute(counts, key1, del_x_key, del_z_key)\n",
        "bit, phase, all = check_correctness(processed_counts,codeword_combos)\n",
        "stats.loc[index] = [index, is_point[index], bit, phase, all]"
      ],
      "execution_count": 82,
      "outputs": []
    },
    {
      "cell_type": "code",
      "metadata": {
        "id": "qbj4i8NHSJjR",
        "colab": {
          "base_uri": "https://localhost:8080/"
        },
        "outputId": "5876f15e-4816-4ea8-b3cd-8a2c6bab2392"
      },
      "source": [
        "print(stats)"
      ],
      "execution_count": 83,
      "outputs": [
        {
          "output_type": "stream",
          "name": "stdout",
          "text": [
            "     #   is_p  ...  no_phase_flip_percentage  no_error_percentage\n",
            "0    0   True  ...                  0.017456             0.000122\n",
            "1    1   True  ...                  0.020752             0.000122\n",
            "2    2   True  ...                  0.013672             0.000122\n",
            "3    3   True  ...                  0.012817             0.000366\n",
            "4    4   True  ...                  0.013794             0.000244\n",
            "5    5   True  ...                  0.015747             0.000732\n",
            "6    6   True  ...                  0.010742             0.000488\n",
            "7    7   True  ...                  0.016968             0.000854\n",
            "8    8   True  ...                  0.014648             0.000366\n",
            "9    9   True  ...                  0.020386             0.000244\n",
            "10  10  False  ...                  0.000000             0.000000\n",
            "11  11  False  ...                  0.014404             0.000122\n",
            "12  12  False  ...                  0.018311             0.000610\n",
            "13  13  False  ...                  0.017578             0.000122\n",
            "14  14  False  ...                  0.015259             0.000122\n",
            "15  15  False  ...                  0.015259             0.000122\n",
            "16  16  False  ...                  0.013672             0.000488\n",
            "17  17  False  ...                  0.017456             0.000488\n",
            "18  18  False  ...                  0.018188             0.000488\n",
            "19  19  False  ...                  0.019409             0.000000\n",
            "20  20  False  ...                  0.016846             0.000366\n",
            "21  21  False  ...                  0.015259             0.000610\n",
            "22  22  False  ...                  0.013428             0.000000\n",
            "23  23  False  ...                  0.017334             0.000122\n",
            "24  24  False  ...                  0.014282             0.000488\n",
            "25  25  False  ...                  0.015625             0.000122\n",
            "26  26  False  ...                  0.015015             0.000122\n",
            "27  27  False  ...                  0.015015             0.000122\n",
            "28  28  False  ...                  0.014526             0.000122\n",
            "29  29  False  ...                  0.013672             0.000244\n",
            "30  30  False  ...                  0.017578             0.000000\n",
            "31  31  False  ...                  0.016357             0.000366\n",
            "32  32  False  ...                  0.010864             0.000244\n",
            "33  33  False  ...                  0.016479             0.000488\n",
            "34  34  False  ...                  0.013550             0.000488\n",
            "35  35  False  ...                  0.021362             0.000732\n",
            "36  36  False  ...                  0.015381             0.000122\n",
            "37  37  False  ...                  0.012939             0.000366\n",
            "38  38  False  ...                  0.016235             0.000122\n",
            "39  39  False  ...                  0.018066             0.001221\n",
            "40  40  False  ...                  0.017700             0.000366\n",
            "41  41  False  ...                  0.011475             0.000366\n",
            "42  42  False  ...                  0.023682             0.000366\n",
            "43  43  False  ...                  0.013062             0.000488\n",
            "44  44  False  ...                  0.013672             0.000244\n",
            "45  45  False  ...                  0.013428             0.000366\n",
            "46  46  False  ...                  0.015503             0.000244\n",
            "47  47  False  ...                  0.017090             0.000000\n",
            "48  48  False  ...                  0.013428             0.000122\n",
            "49  49  False  ...                  0.011719             0.000122\n",
            "50  50   True  ...                  0.016968             0.000732\n",
            "51  51   True  ...                  0.017944             0.000244\n",
            "52  52   True  ...                  0.014648             0.000610\n",
            "53  53   True  ...                  0.012817             0.000366\n",
            "54  54  False  ...                  0.015503             0.000244\n",
            "55  55   True  ...                  0.016357             0.000000\n",
            "56  56  False  ...                  0.017700             0.000000\n",
            "57  57  False  ...                  0.014526             0.000000\n",
            "58  58  False  ...                  0.017090             0.000122\n",
            "59  59  False  ...                  0.016113             0.000122\n",
            "\n",
            "[60 rows x 5 columns]\n"
          ]
        }
      ]
    },
    {
      "cell_type": "markdown",
      "metadata": {
        "id": "7pR6Mr4RlYJJ"
      },
      "source": [
        "# Calculate Average Error Rates "
      ]
    },
    {
      "cell_type": "code",
      "metadata": {
        "colab": {
          "base_uri": "https://localhost:8080/"
        },
        "id": "Lg7bvhNTlcd0",
        "outputId": "5c6bda24-ce76-4567-adc2-6974fada5798"
      },
      "source": [
        "df = get_average_rates(save_file, num_tests = 5, num_iterations= 10)\n",
        "print(df)"
      ],
      "execution_count": 84,
      "outputs": [
        {
          "output_type": "stream",
          "name": "stdout",
          "text": [
            "                                 0          1          2          3          4\n",
            "Unnamed: 0                4.500000  14.500000  24.500000  34.500000  44.500000\n",
            "#                         4.500000  14.500000  24.500000  34.500000  44.500000\n",
            "is_p                      1.000000   0.000000   0.000000   0.000000   0.000000\n",
            "no_bit_flip_percentage    0.026733   0.016138   0.016113   0.025989   0.016125\n",
            "no_phase_flip_percentage  0.015698   0.016614   0.015100   0.015881   0.015076\n",
            "no_error_percentage       0.000366   0.000269   0.000232   0.000415   0.000269\n"
          ]
        }
      ]
    },
    {
      "cell_type": "code",
      "metadata": {
        "colab": {
          "base_uri": "https://localhost:8080/"
        },
        "id": "GmIHJFiKjuZ0",
        "outputId": "5757dc75-fbad-4fd4-f12b-284e2761fbe8"
      },
      "source": [
        "df = get_average_rates_from_random_tests(save_file, 50, 60)\n",
        "print(df)"
      ],
      "execution_count": 85,
      "outputs": [
        {
          "output_type": "stream",
          "name": "stdout",
          "text": [
            "                          True Positive  False Positive\n",
            "Unnamed: 0                    52.200000       56.800000\n",
            "#                             52.200000       56.800000\n",
            "is_p                           1.000000        0.000000\n",
            "no_bit_flip_percentage         0.029224        0.007886\n",
            "no_phase_flip_percentage       0.015747        0.016187\n",
            "no_error_percentage            0.000391        0.000098\n"
          ]
        }
      ]
    },
    {
      "cell_type": "markdown",
      "metadata": {
        "id": "_nb5HTPIAxw3"
      },
      "source": [
        "#Graphing results example"
      ]
    },
    {
      "cell_type": "code",
      "metadata": {
        "id": "ByiKRqOSdtuT"
      },
      "source": [
        "# no error phase syndrome\n",
        "phase_syndrome = '000000'\n",
        "# set the post-processed measurement outcomes\n",
        "counts_dict = {}\n",
        "num_qubits = 14"
      ],
      "execution_count": 86,
      "outputs": []
    },
    {
      "cell_type": "code",
      "metadata": {
        "id": "gTu3MhIFAxb6",
        "colab": {
          "base_uri": "https://localhost:8080/",
          "height": 738
        },
        "outputId": "2705996d-4851-418d-f219-530c28210168"
      },
      "source": [
        "d = collections.OrderedDict(sorted(counts_dict.items()))\n",
        "count = 0\n",
        "# set color of all the wrong measurement outcomes\n",
        "colors = ['lightgray']*len(d)\n",
        "patterns = ['']*len(d)\n",
        "for key, val in d.items():\n",
        "  if phase_syndrome == key[-num_syndrome:]:\n",
        "    if key[:num_qubits] in codeword_combos:\n",
        "      # set color of all the right measurement outcomes\n",
        "      colors[count]= \"black\"\n",
        "  count = count +1 \n",
        "x_vals = list(d.keys())\n",
        "y_vals = list(d.values())\n",
        "\n",
        "plt.figure(figsize=(20,14))\n",
        "for i in range(len(d)):\n",
        "  plt.bar(x_vals[i], y_vals[i], color=colors[i])\n",
        "plt.xticks(fontsize=18, rotation=90)\n",
        "plt.yticks(fontsize=18)\n",
        "plt.xlabel('Measurement Values', fontsize=25)\n",
        "plt.ylabel('Probability', fontsize=25)\n",
        "plt.title('Quantum Computer without Err Mit', fontsize=30)\n",
        "plt.show()"
      ],
      "execution_count": 87,
      "outputs": [
        {
          "output_type": "display_data",
          "data": {
            "image/png": "[encoded data removed]",
            "text/plain": [
              "<Figure size 1440x1008 with 1 Axes>"
            ]
          },
          "metadata": {
            "needs_background": "light"
          }
        }
      ]
    }
  ]
}