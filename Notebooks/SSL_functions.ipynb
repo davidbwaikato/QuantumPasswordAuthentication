{
  "nbformat": 4,
  "nbformat_minor": 0,
  "metadata": {
    "colab": {
      "name": "SSL stuff",
      "provenance": []
    },
    "kernelspec": {
      "name": "python3",
      "display_name": "Python 3"
    },
    "language_info": {
      "name": "python"
    }
  },
  "cells": [
    {
      "cell_type": "code",
      "metadata": {
        "id": "p-ZBFc31E5V1"
      },
      "source": [
        "!pip install pycryptodome"
      ],
      "execution_count": null,
      "outputs": []
    },
    {
      "cell_type": "code",
      "metadata": {
        "id": "TD-QhTmqH84X"
      },
      "source": [
        "from Crypto.Cipher import AES\n",
        "from Crypto.Random import get_random_bytes\n",
        "\n",
        "def encrypt(data):\n",
        "  key = get_random_bytes(32)\n",
        "  cipher = AES.new(key, AES.MODE_EAX)\n",
        "\n",
        "  nonce = cipher.nonce\n",
        "  data = data.encode('ascii')\n",
        "  ciphertext, tag = cipher.encrypt_and_digest(data)\n",
        "\n",
        "  return key, ciphertext, nonce, tag\n",
        "\n",
        "def decrypt(key, ciphertext, nonce, tag):\n",
        "  cipher = AES.new(key, AES.MODE_EAX, nonce=nonce)\n",
        "  plaintext = cipher.decrypt(ciphertext)\n",
        "  try:\n",
        "    cipher.verify(tag)\n",
        "    print(\"The message is authentic:\", plaintext)\n",
        "  except ValueError:\n",
        "    print(\"Key incorrect or message corrupted\")  \n"
      ],
      "execution_count": 3,
      "outputs": []
    }
  ]
}